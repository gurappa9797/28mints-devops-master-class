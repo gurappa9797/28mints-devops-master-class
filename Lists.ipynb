{
  "nbformat": 4,
  "nbformat_minor": 0,
  "metadata": {
    "colab": {
      "provenance": [],
      "authorship_tag": "ABX9TyNWAqUnius2o5C1+TgBzAqe",
      "include_colab_link": true
    },
    "kernelspec": {
      "name": "python3",
      "display_name": "Python 3"
    },
    "language_info": {
      "name": "python"
    }
  },
  "cells": [
    {
      "cell_type": "markdown",
      "metadata": {
        "id": "view-in-github",
        "colab_type": "text"
      },
      "source": [
        "<a href=\"https://colab.research.google.com/github/gurappa9797/28mints-devops-master-class/blob/master/Lists.ipynb\" target=\"_parent\"><img src=\"https://colab.research.google.com/assets/colab-badge.svg\" alt=\"Open In Colab\"/></a>"
      ]
    },
    {
      "cell_type": "code",
      "source": [
        "fruits = [\"'apple', 'banana', 'cherry'\"]\n",
        "print(fruits)\n",
        "int_val = [1, 2, 3]\n",
        "print(int_val)\n",
        "float_val = [1.0, 2.0, 3.0]\n",
        "print(float_val)\n",
        "multi_val = [[1, 2, 3], [4, 5, 6]]\n",
        "print(multi_val)\n",
        "v=[\"python program\"]\n",
        "print(v)\n",
        "list = ['apple', 1.0, 1, True]\n",
        "print(list)"
      ],
      "metadata": {
        "colab": {
          "base_uri": "https://localhost:8080/"
        },
        "collapsed": true,
        "id": "UjWx0xkwddZW",
        "outputId": "540c5072-e7bd-49a5-9895-3f121d654e76"
      },
      "execution_count": 85,
      "outputs": [
        {
          "output_type": "stream",
          "name": "stdout",
          "text": [
            "[\"'apple', 'banana', 'cherry'\"]\n",
            "[1, 2, 3]\n",
            "[1.0, 2.0, 3.0]\n",
            "[[1, 2, 3], [4, 5, 6]]\n",
            "['python program']\n",
            "['apple', 1.0, 1, True]\n"
          ]
        }
      ]
    },
    {
      "cell_type": "code",
      "source": [
        "# for Loop using on list\n",
        "a =[1,2,3,4,5,6]\n",
        "print('for loop using on list')\n",
        "for i in a:\n",
        "    print(i)\n",
        "    print( \"using for loop\")\n",
        "    print(\"end for loop\")\n",
        "print(\"end for loop\")"
      ],
      "metadata": {
        "colab": {
          "base_uri": "https://localhost:8080/"
        },
        "collapsed": true,
        "id": "DdgevGBGgE6m",
        "outputId": "98f3ac95-9dd0-4ba6-cb83-7ebdb029d610"
      },
      "execution_count": 4,
      "outputs": [
        {
          "output_type": "stream",
          "name": "stdout",
          "text": [
            "for loop using on list\n",
            "1\n",
            "using for loop\n",
            "end for loop\n",
            "2\n",
            "using for loop\n",
            "end for loop\n",
            "3\n",
            "using for loop\n",
            "end for loop\n",
            "4\n",
            "using for loop\n",
            "end for loop\n",
            "5\n",
            "using for loop\n",
            "end for loop\n",
            "6\n",
            "using for loop\n",
            "end for loop\n",
            "end for loop\n"
          ]
        }
      ]
    },
    {
      "cell_type": "code",
      "source": [
        "temperatures_celsius = [-5, -1, -3, 0, 30, 40 , 50 ,60 ,70]\n",
        "temperatures_fahrenheit = []\n",
        "\n",
        "for temp in temp_celsius:\n",
        "\n",
        "    if temp >= 0:  # Only consider temperatures above freezing\n",
        "\n",
        "        fahrenheit = (temp * 9/5) + 32  # Convert to Fahrenheit\n",
        "\n",
        "        temperatures_fahrenheit.append(fahrenheit)\n",
        "\n",
        "print(\"Filtered and converted temperatures:\", temperatures_fahrenheit)"
      ],
      "metadata": {
        "colab": {
          "base_uri": "https://localhost:8080/",
          "height": 211
        },
        "collapsed": true,
        "id": "zaq1AbzeklrU",
        "outputId": "1d49ac03-bdfd-470b-b93f-90ebf78c71c1"
      },
      "execution_count": 5,
      "outputs": [
        {
          "output_type": "error",
          "ename": "NameError",
          "evalue": "name 'temp_celsius' is not defined",
          "traceback": [
            "\u001b[0;31m---------------------------------------------------------------------------\u001b[0m",
            "\u001b[0;31mNameError\u001b[0m                                 Traceback (most recent call last)",
            "\u001b[0;32m<ipython-input-5-b8ecdd0957d6>\u001b[0m in \u001b[0;36m<cell line: 4>\u001b[0;34m()\u001b[0m\n\u001b[1;32m      2\u001b[0m \u001b[0mtemperatures_fahrenheit\u001b[0m \u001b[0;34m=\u001b[0m \u001b[0;34m[\u001b[0m\u001b[0;34m]\u001b[0m\u001b[0;34m\u001b[0m\u001b[0;34m\u001b[0m\u001b[0m\n\u001b[1;32m      3\u001b[0m \u001b[0;34m\u001b[0m\u001b[0m\n\u001b[0;32m----> 4\u001b[0;31m \u001b[0;32mfor\u001b[0m \u001b[0mtemp\u001b[0m \u001b[0;32min\u001b[0m \u001b[0mtemp_celsius\u001b[0m\u001b[0;34m:\u001b[0m\u001b[0;34m\u001b[0m\u001b[0;34m\u001b[0m\u001b[0m\n\u001b[0m\u001b[1;32m      5\u001b[0m \u001b[0;34m\u001b[0m\u001b[0m\n\u001b[1;32m      6\u001b[0m     \u001b[0;32mif\u001b[0m \u001b[0mtemp\u001b[0m \u001b[0;34m>=\u001b[0m \u001b[0;36m0\u001b[0m\u001b[0;34m:\u001b[0m  \u001b[0;31m# Only consider temperatures above freezing\u001b[0m\u001b[0;34m\u001b[0m\u001b[0;34m\u001b[0m\u001b[0m\n",
            "\u001b[0;31mNameError\u001b[0m: name 'temp_celsius' is not defined"
          ]
        }
      ]
    },
    {
      "cell_type": "markdown",
      "source": [
        "Given a list of sales, calculate how many sales are greater than 50 and how many are less than 50. Consider a average score as 50.\n",
        "\n",
        "for sales_value in sales:\n",
        "\n",
        "    if sales_value >= 50:\n",
        "\n",
        "        above += 1\n",
        "\n",
        "    else:\n",
        "\n",
        "        below += 1\n",
        "\n",
        "print(f\"Number of sales above 50: { above }\")\n",
        "\n",
        "print(f\"Number of sales below 50: { below }\")"
      ],
      "metadata": {
        "id": "ivDGUCyc3rM1"
      }
    },
    {
      "cell_type": "code",
      "source": [
        "sales = [45, 78, 55, 34, 62, 90, 29, 50,85, 49]\n",
        "for sales_value in sales:\n",
        "if sales >= 50:\n",
        "    above += 1\n",
        "else:\n",
        "    below += 1\n",
        " print (sales)\n",
        "else\n",
        " print (sales)"
      ],
      "metadata": {
        "colab": {
          "base_uri": "https://localhost:8080/",
          "height": 106
        },
        "id": "ZL2lC2s53v6H",
        "outputId": "bf6f5efd-9c61-4b4b-eb5e-3130870465d8"
      },
      "execution_count": 10,
      "outputs": [
        {
          "output_type": "error",
          "ename": "IndentationError",
          "evalue": "unexpected indent (<ipython-input-10-a3bce39ef50a>, line 2)",
          "traceback": [
            "\u001b[0;36m  File \u001b[0;32m\"<ipython-input-10-a3bce39ef50a>\"\u001b[0;36m, line \u001b[0;32m2\u001b[0m\n\u001b[0;31m    for sales_value in sale:\u001b[0m\n\u001b[0m    ^\u001b[0m\n\u001b[0;31mIndentationError\u001b[0m\u001b[0;31m:\u001b[0m unexpected indent\n"
          ]
        }
      ]
    },
    {
      "cell_type": "code",
      "source": [
        "# List operations in Pytoh\n",
        "\n",
        "# List creation in pythom\n",
        "\n",
        "F = [\"apple\", \"banana\", \"cherry\", \"GRAPS\", \"ORANGE\", \"kiwi\", \"melon\", \"mango\"]\n",
        "print(F)\n",
        "\n",
        "int_val = (1,2,3,4,5,6,7)\n",
        "print(int_val)\n",
        "\n",
        "float_val = (1.0, 2.0, 3.0, 4.0, 5.0, 6.0, 7.0)\n",
        "print(float_val)\n",
        "\n",
        "multi_val = [[1, 2, 3], [4, 5, 6]]\n",
        "print(multi_val)\n"
      ],
      "metadata": {
        "colab": {
          "base_uri": "https://localhost:8080/"
        },
        "collapsed": true,
        "id": "z3nFX7ZG5jOh",
        "outputId": "bc4ed508-bee4-4d33-ebac-4cdd38e09274"
      },
      "execution_count": 3,
      "outputs": [
        {
          "output_type": "stream",
          "name": "stdout",
          "text": [
            "['apple', 'banana', 'cherry', 'GRAPS', 'ORANGE', 'kiwi', 'melon', 'mango']\n",
            "(1, 2, 3, 4, 5, 6, 7)\n",
            "(1.0, 2.0, 3.0, 4.0, 5.0, 6.0, 7.0)\n",
            "[[1, 2, 3], [4, 5, 6]]\n"
          ]
        }
      ]
    },
    {
      "cell_type": "code",
      "source": [
        "# Itirating through list  for loop\n",
        "fruits = [\"apple\", \"banana\", \"cherry\", \"GRAPS\", \"ORANGE\", \"kiwi\", \"melon\", \"mango\"]\n",
        "for gur in fruits:\n",
        "    print(gur)\n",
        "    print(\"using for loop\")\n",
        "print(\"end for loop\")"
      ],
      "metadata": {
        "colab": {
          "base_uri": "https://localhost:8080/"
        },
        "collapsed": true,
        "id": "xx8rZMh3TRIT",
        "outputId": "c50dc7ff-a29a-4839-e564-325153dfa407"
      },
      "execution_count": 9,
      "outputs": [
        {
          "output_type": "stream",
          "name": "stdout",
          "text": [
            "apple\n",
            "using for loop\n",
            "banana\n",
            "using for loop\n",
            "cherry\n",
            "using for loop\n",
            "GRAPS\n",
            "using for loop\n",
            "ORANGE\n",
            "using for loop\n",
            "kiwi\n",
            "using for loop\n",
            "melon\n",
            "using for loop\n",
            "mango\n",
            "using for loop\n",
            "end for loop\n"
          ]
        }
      ]
    },
    {
      "cell_type": "code",
      "source": [
        "# int value for for loop\n",
        "\n",
        "int_val = (1,2,3,4,5,6,7)\n",
        "for i in int_val:\n",
        "    print(i)\n",
        "    print(\"using for loop\")\n",
        "print(\"end for loop\")"
      ],
      "metadata": {
        "colab": {
          "base_uri": "https://localhost:8080/"
        },
        "collapsed": true,
        "id": "CdhmgAc4TREy",
        "outputId": "6a17909c-13c0-4ef2-9c29-d7440dab7c56"
      },
      "execution_count": 10,
      "outputs": [
        {
          "output_type": "stream",
          "name": "stdout",
          "text": [
            "1\n",
            "using for loop\n",
            "2\n",
            "using for loop\n",
            "3\n",
            "using for loop\n",
            "4\n",
            "using for loop\n",
            "5\n",
            "using for loop\n",
            "6\n",
            "using for loop\n",
            "7\n",
            "using for loop\n",
            "end for loop\n"
          ]
        }
      ]
    },
    {
      "cell_type": "code",
      "source": [
        "# Acceing element on list\n",
        "print(\"First element:\", fruits[0])\n",
        "print(\"Third element:\", fruits[2])\n",
        "print(\"Last element:\", fruits[-1])"
      ],
      "metadata": {
        "colab": {
          "base_uri": "https://localhost:8080/"
        },
        "collapsed": true,
        "id": "KrHIAnONUd5X",
        "outputId": "340f34b7-a42e-43bb-b7d4-053a910c4364"
      },
      "execution_count": 11,
      "outputs": [
        {
          "output_type": "stream",
          "name": "stdout",
          "text": [
            "First element: apple\n",
            "Third element: cherry\n",
            "Last element: mango\n"
          ]
        }
      ]
    },
    {
      "cell_type": "code",
      "source": [
        "print(fruits[0:3])"
      ],
      "metadata": {
        "colab": {
          "base_uri": "https://localhost:8080/"
        },
        "id": "6n-So3yaVE8j",
        "outputId": "487eb53d-127c-4381-e7f9-f90b1a95877c"
      },
      "execution_count": 12,
      "outputs": [
        {
          "output_type": "stream",
          "name": "stdout",
          "text": [
            "['apple', 'banana', 'cherry']\n"
          ]
        }
      ]
    },
    {
      "cell_type": "code",
      "source": [
        "# Inserting elements at specific index\n",
        "fruits.insert(2, \"pineapple\")\n",
        "print(fruits)"
      ],
      "metadata": {
        "colab": {
          "base_uri": "https://localhost:8080/"
        },
        "id": "BYTVJX9XVT0O",
        "outputId": "e0ffdb5f-a1ff-4248-f026-ccbf034462f4"
      },
      "execution_count": 13,
      "outputs": [
        {
          "output_type": "stream",
          "name": "stdout",
          "text": [
            "['apple', 'banana', 'pineapple', 'cherry', 'GRAPS', 'ORANGE', 'kiwi', 'melon', 'mango']\n"
          ]
        }
      ]
    },
    {
      "cell_type": "code",
      "source": [
        "# appending elements (adding at the end of list)\n",
        "fruits.append(\"peach\")\n",
        "print(fruits)"
      ],
      "metadata": {
        "colab": {
          "base_uri": "https://localhost:8080/"
        },
        "id": "FdCFeABiVobf",
        "outputId": "6cdd8a64-23fe-446a-97e7-08669ddabb3b"
      },
      "execution_count": 14,
      "outputs": [
        {
          "output_type": "stream",
          "name": "stdout",
          "text": [
            "['apple', 'banana', 'pineapple', 'cherry', 'GRAPS', 'ORANGE', 'kiwi', 'melon', 'mango', 'peach']\n"
          ]
        }
      ]
    },
    {
      "cell_type": "code",
      "source": [
        "# Modifying elements\n",
        "fruits[0] = \"mango\"\n",
        "fruits[2] = \"blueberry\"\n",
        "fruits[3] = \"strawberry\"\n",
        "fruits.insert(4, \"watermelon\")\n",
        "print(\"after modification :\", fruits)"
      ],
      "metadata": {
        "colab": {
          "base_uri": "https://localhost:8080/"
        },
        "id": "rm4a8dcjV_HU",
        "outputId": "f4f58e1f-f6ee-4b6a-a089-3c53c558d2fe"
      },
      "execution_count": 17,
      "outputs": [
        {
          "output_type": "stream",
          "name": "stdout",
          "text": [
            "after modification : ['mango', 'banana', 'blueberry', 'strawberry', 'watermelon', 'watermelon', 'watermelon', 'GRAPS', 'ORANGE', 'kiwi', 'melon', 'mango', 'peach']\n"
          ]
        }
      ]
    },
    {
      "cell_type": "code",
      "source": [],
      "metadata": {
        "id": "4RV00ZvgV-p0"
      },
      "execution_count": null,
      "outputs": []
    },
    {
      "cell_type": "code",
      "source": [
        "# Extending list (adding other list to fruits list)\n",
        "vegetables = [\"carrot\", \"spinach\", \"broccoli\"]\n",
        "fruits.extend(vegetables)\n",
        "print(\"After extending:\", fruits)"
      ],
      "metadata": {
        "colab": {
          "base_uri": "https://localhost:8080/"
        },
        "id": "ZhlNge1iW7xX",
        "outputId": "7b71cae5-3be5-4619-bf36-17d9d246c22a"
      },
      "execution_count": 19,
      "outputs": [
        {
          "output_type": "stream",
          "name": "stdout",
          "text": [
            "After extending: ['mango', 'banana', 'blueberry', 'strawberry', 'watermelon', 'watermelon', 'watermelon', 'GRAPS', 'ORANGE', 'kiwi', 'melon', 'mango', 'peach', 'carrot', 'spinach', 'broccoli']\n"
          ]
        }
      ]
    },
    {
      "cell_type": "code",
      "source": [
        "# remove values by elements\n",
        "fruits.remove(\"watermelon\")\n",
        "\n",
        "print(\"After removing:\", fruits)"
      ],
      "metadata": {
        "colab": {
          "base_uri": "https://localhost:8080/"
        },
        "id": "9u-5K_pRXxUd",
        "outputId": "96b6d8cc-1858-4e91-c998-0257f86c4cd2"
      },
      "execution_count": 22,
      "outputs": [
        {
          "output_type": "stream",
          "name": "stdout",
          "text": [
            "After removing: ['mango', 'banana', 'blueberry', 'strawberry', 'watermelon', 'watermelon', 'GRAPS', 'ORANGE', 'kiwi', 'melon', 'mango', 'peach', 'carrot', 'spinach', 'broccoli']\n"
          ]
        }
      ]
    },
    {
      "cell_type": "markdown",
      "source": [],
      "metadata": {
        "id": "CP3bJJT63qNS"
      }
    },
    {
      "cell_type": "code",
      "source": [
        "# Deleting elements from the list\n",
        "\n",
        "del fruits[3]\n",
        "print(\"After deleting:\", fruits)"
      ],
      "metadata": {
        "colab": {
          "base_uri": "https://localhost:8080/"
        },
        "id": "fDm0UH0zYtqj",
        "outputId": "1d8f2796-dfd5-4d7b-b8be-e06d15df6b4d"
      },
      "execution_count": 24,
      "outputs": [
        {
          "output_type": "stream",
          "name": "stdout",
          "text": [
            "After deleting: ['banana', 'blueberry', 'strawberry', 'watermelon', 'GRAPS', 'ORANGE', 'kiwi', 'melon', 'mango', 'peach', 'carrot', 'spinach', 'broccoli']\n"
          ]
        }
      ]
    },
    {
      "cell_type": "code",
      "source": [
        "# Removing Elements by index\n",
        "fruits.pop(2)\n",
        "print(\"After poping:\", fruits)"
      ],
      "metadata": {
        "colab": {
          "base_uri": "https://localhost:8080/"
        },
        "id": "mW5bvi_fZBSp",
        "outputId": "6c0f307d-8d36-4fa5-8208-de243f1641c4"
      },
      "execution_count": 25,
      "outputs": [
        {
          "output_type": "stream",
          "name": "stdout",
          "text": [
            "After poping: ['banana', 'blueberry', 'watermelon', 'GRAPS', 'ORANGE', 'kiwi', 'melon', 'mango', 'peach', 'carrot', 'spinach', 'broccoli']\n"
          ]
        }
      ]
    },
    {
      "cell_type": "code",
      "source": [
        "# Cleaing the all Elements\n",
        "fruits.clear()\n",
        "print(\"After clearing:\", fruits)"
      ],
      "metadata": {
        "colab": {
          "base_uri": "https://localhost:8080/"
        },
        "id": "HrF8YufmZhFR",
        "outputId": "f98e8059-bb57-4f4d-9339-4f8b12dfdbe6"
      },
      "execution_count": 26,
      "outputs": [
        {
          "output_type": "stream",
          "name": "stdout",
          "text": [
            "After clearing: []\n"
          ]
        }
      ]
    },
    {
      "cell_type": "code",
      "source": [
        "# Recreating the list for next tasks\n",
        "fruits = [\"apple\", \"banana\", \"cherry\", \"GRAPS\", \"ORANGE\", \"kiwi\", \"melon\", \"mango\"]\n",
        "\n",
        "# Sorting the list alpha numerically\n",
        "fruits.sort()\n",
        "print(\"After sorting:\", fruits)"
      ],
      "metadata": {
        "colab": {
          "base_uri": "https://localhost:8080/"
        },
        "id": "bezSA4DLZsWH",
        "outputId": "592785e8-f807-4a01-87d9-6dbaf1e19d36"
      },
      "execution_count": 29,
      "outputs": [
        {
          "output_type": "stream",
          "name": "stdout",
          "text": [
            "After sorting: ['GRAPS', 'ORANGE', 'apple', 'banana', 'cherry', 'kiwi', 'mango', 'melon']\n"
          ]
        }
      ]
    },
    {
      "cell_type": "code",
      "source": [
        "# Sorting the list reverse order\n",
        "fruits.sort(reverse=True)\n",
        "print(\"After sorting in reverse order:\", fruits)"
      ],
      "metadata": {
        "colab": {
          "base_uri": "https://localhost:8080/"
        },
        "id": "gp_1zLosaLme",
        "outputId": "a92faca2-bf37-4403-acc4-12b11f43db73"
      },
      "execution_count": 30,
      "outputs": [
        {
          "output_type": "stream",
          "name": "stdout",
          "text": [
            "After sorting in reverse order: ['melon', 'mango', 'kiwi', 'cherry', 'banana', 'apple', 'ORANGE', 'GRAPS']\n"
          ]
        }
      ]
    },
    {
      "cell_type": "code",
      "source": [
        "# Reversing order not using sort\n",
        "fruits.reverse()\n",
        "print(\"After reversing:\", fruits)"
      ],
      "metadata": {
        "colab": {
          "base_uri": "https://localhost:8080/"
        },
        "id": "2SRrwOD_aWWv",
        "outputId": "3bf3159d-f660-4cb4-c9cf-390baea5ccd6"
      },
      "execution_count": 31,
      "outputs": [
        {
          "output_type": "stream",
          "name": "stdout",
          "text": [
            "After reversing: ['GRAPS', 'ORANGE', 'apple', 'banana', 'cherry', 'kiwi', 'mango', 'melon']\n"
          ]
        }
      ]
    },
    {
      "cell_type": "code",
      "source": [
        "# Finding the index of element\n",
        "index = fruits.index(\"cherry\")\n",
        "print(\"Index of cherry:\", index)"
      ],
      "metadata": {
        "colab": {
          "base_uri": "https://localhost:8080/"
        },
        "id": "n9l9H_WFanjA",
        "outputId": "c9baaf16-3070-4026-ec5c-601aa00e811a"
      },
      "execution_count": 32,
      "outputs": [
        {
          "output_type": "stream",
          "name": "stdout",
          "text": [
            "Index of cherry: 4\n"
          ]
        }
      ]
    },
    {
      "cell_type": "code",
      "source": [
        "# counting the occurance of element (repeting values)\n",
        "fruits.insert(6, \"apple\")\n",
        "print(\"After inserting:\", fruits)\n",
        "count = fruits.count(\"apple\")\n",
        "print(\"Count of apple:\", count)"
      ],
      "metadata": {
        "colab": {
          "base_uri": "https://localhost:8080/"
        },
        "id": "oDvHirjga0dR",
        "outputId": "24b5ce72-8b8a-401c-d6db-9789d8d337d2"
      },
      "execution_count": 34,
      "outputs": [
        {
          "output_type": "stream",
          "name": "stdout",
          "text": [
            "After inserting: ['GRAPS', 'ORANGE', 'apple', 'banana', 'cherry', 'kiwi', 'apple', 'mango', 'melon']\n",
            "Count of apple: 2\n"
          ]
        }
      ]
    },
    {
      "cell_type": "code",
      "source": [
        "# Slicing of List\n",
        "sub_list = fruits[1:4] #slicing index 1 to 3 ( 4 is excluded)\n",
        "print(\"Sliced list:\", sub_list)"
      ],
      "metadata": {
        "colab": {
          "base_uri": "https://localhost:8080/"
        },
        "id": "i2z8oZz6bTnS",
        "outputId": "bdbac9a1-889f-4f21-d39e-9bf652401042"
      },
      "execution_count": 35,
      "outputs": [
        {
          "output_type": "stream",
          "name": "stdout",
          "text": [
            "Sliced list: ['ORANGE', 'apple', 'banana']\n"
          ]
        }
      ]
    },
    {
      "cell_type": "code",
      "source": [
        "# copying list\n",
        "copied_list = fruits.copy()\n",
        "print(\"Copied list:\", copied_list)"
      ],
      "metadata": {
        "colab": {
          "base_uri": "https://localhost:8080/"
        },
        "id": "nHWnGZEsbyJK",
        "outputId": "953a199b-2531-465c-b3a7-6d454ca996a7"
      },
      "execution_count": 36,
      "outputs": [
        {
          "output_type": "stream",
          "name": "stdout",
          "text": [
            "Copied list: ['GRAPS', 'ORANGE', 'apple', 'banana', 'cherry', 'kiwi', 'apple', 'mango', 'melon']\n"
          ]
        }
      ]
    },
    {
      "cell_type": "code",
      "source": [
        "# Checking if the list is empty\n",
        "fruits = [\"apple\", \"banana\", \"cherry\", \"GRAPS\", \"ORANGE\", \"kiwi\", \"melon\", \"mango\"]\n",
        "print(\"Original list:\", fruits)\n",
        "if fruits:\n",
        "    print(\"The list is not empty.\")\n",
        "else:\n",
        "    print(\"The list is empty.\")\n",
        "fruits.clear()\n",
        "print(\"After clearing:\", fruits)\n",
        "if fruits:\n",
        "    print(\"The list is  not empty.\")\n",
        "else:\n",
        "    print(\"The list is empty.\")\n",
        ""
      ],
      "metadata": {
        "colab": {
          "base_uri": "https://localhost:8080/"
        },
        "id": "EkjCiPiUcJr-",
        "outputId": "5da01499-469f-42fe-cb70-ec601a93c0be"
      },
      "execution_count": 3,
      "outputs": [
        {
          "output_type": "stream",
          "name": "stdout",
          "text": [
            "Original list: ['apple', 'banana', 'cherry', 'GRAPS', 'ORANGE', 'kiwi', 'melon', 'mango']\n",
            "The list is not empty.\n",
            "After clearing: []\n",
            "The list is empty.\n"
          ]
        }
      ]
    },
    {
      "cell_type": "code",
      "source": [
        "# Checking if an item is existing in the list\n",
        "fruits = [\"apple\", \"banana\", \"cherry\", \"GRAPS\", \"ORANGE\", \"kiwi\", \"melon\", \"mango\"]\n",
        "print(\"Original list:\", fruits)\n",
        "if \"apple\" in fruits:\n",
        "    print(\"Apple is in the list.\")\n",
        "else:\n",
        "    print(\"Apple is not in the list.\")"
      ],
      "metadata": {
        "colab": {
          "base_uri": "https://localhost:8080/"
        },
        "id": "wC1v-nkWdIJY",
        "outputId": "befd9da7-923c-4c6f-be8c-ec3403b176bc"
      },
      "execution_count": 5,
      "outputs": [
        {
          "output_type": "stream",
          "name": "stdout",
          "text": [
            "Original list: ['apple', 'banana', 'cherry', 'GRAPS', 'ORANGE', 'kiwi', 'melon', 'mango']\n",
            "Apple is in the list.\n"
          ]
        }
      ]
    },
    {
      "cell_type": "code",
      "source": [
        "# same values adding multipil time in the list\n",
        "fruits = [\"GRAPS\", \"ORANGE\", \"kiwi\", \"melon\", \"mango\"]\n",
        "repeted_fruits = fruits * 3\n",
        "print(fruits)\n",
        "print(repeted_fruits)"
      ],
      "metadata": {
        "colab": {
          "base_uri": "https://localhost:8080/"
        },
        "id": "EJwIvlsov8o1",
        "outputId": "1b726ebd-8148-4f8a-8843-afa1558decec"
      },
      "execution_count": 9,
      "outputs": [
        {
          "output_type": "stream",
          "name": "stdout",
          "text": [
            "['GRAPS', 'ORANGE', 'kiwi', 'melon', 'mango']\n",
            "['GRAPS', 'ORANGE', 'kiwi', 'melon', 'mango', 'GRAPS', 'ORANGE', 'kiwi', 'melon', 'mango', 'GRAPS', 'ORANGE', 'kiwi', 'melon', 'mango']\n"
          ]
        }
      ]
    },
    {
      "cell_type": "code",
      "source": [
        "# Length of the List\n",
        "length = len(fruits)\n",
        "print(\"Length of the list:\", length)"
      ],
      "metadata": {
        "colab": {
          "base_uri": "https://localhost:8080/"
        },
        "id": "WXrN9c3QxF2l",
        "outputId": "2f4d293b-e0ff-4ded-a4fa-db0fa5b068df"
      },
      "execution_count": 10,
      "outputs": [
        {
          "output_type": "stream",
          "name": "stdout",
          "text": [
            "Length of the list: 5\n"
          ]
        }
      ]
    },
    {
      "cell_type": "code",
      "source": [
        "# Joining (combining mutipile list) into single list\n",
        "fruits = [\"apple\", \"banana\", \"cherry\", \"GRAPS\", \"ORANGE\", \"kiwi\", \"melon\", \"mango\"]\n",
        "vegetables = [\"carrot\", \"spinach\", \"broccoli\"]\n",
        "combined_list = fruits + vegetables\n",
        "print(\"Combined list:\", combined_list)"
      ],
      "metadata": {
        "colab": {
          "base_uri": "https://localhost:8080/"
        },
        "id": "MP1j_H5fxUu3",
        "outputId": "2e0896b2-5b59-493c-fd80-bd4331e602d2"
      },
      "execution_count": 15,
      "outputs": [
        {
          "output_type": "stream",
          "name": "stdout",
          "text": [
            "Combined list: ['apple', 'banana', 'cherry', 'GRAPS', 'ORANGE', 'kiwi', 'melon', 'mango', 'carrot', 'spinach', 'broccoli']\n"
          ]
        }
      ]
    },
    {
      "cell_type": "code",
      "source": [
        "# Maximum and Minumu into the list\n",
        "print(combined_list)\n",
        "numbers = [5, 2, 8, 1, 9, 3]\n",
        "maximum = max(numbers)\n",
        "minimum = min(numbers)\n",
        "print(\"Maximum:\", maximum)\n",
        "print(\"Minimum:\", minimum)\n",
        "print(f\"Max:{max(combined_list)}\")\n",
        "print(f\"Min:{min(combined_list)}\")"
      ],
      "metadata": {
        "colab": {
          "base_uri": "https://localhost:8080/"
        },
        "id": "ST6gYJoSxkhS",
        "outputId": "a9b8f271-f906-44ae-81a3-be3487e2e43e"
      },
      "execution_count": 19,
      "outputs": [
        {
          "output_type": "stream",
          "name": "stdout",
          "text": [
            "['apple', 'banana', 'cherry', 'GRAPS', 'ORANGE', 'kiwi', 'melon', 'mango', 'carrot', 'spinach', 'broccoli']\n",
            "Maximum: 9\n",
            "Minimum: 1\n",
            "Max:spinach\n",
            "Min:GRAPS\n"
          ]
        }
      ]
    },
    {
      "cell_type": "code",
      "source": [
        "# Creating a List: Start by creating an empty customer queue list, which will represent people arriving at the checkout line.\n",
        "customer_queue = []\n",
        "# appending elements: add customers as they are arrive at check out line\n",
        "customer_queue.append(\"Customer 1\")\n",
        "customer_queue.append(\"Customer 2\")\n",
        "customer_queue.append(\"Customer 3\")\n",
        "customer_queue.append(\"Customer 4\")\n",
        "customer_queue.append(\"Customer 5\")\n",
        "print(\"Customer Queue:\", customer_queue)\n",
        "\n",
        "# Extending List : add a batch of customers who arrive together in group\n",
        "new_customers = [\"Customer 6\", \"Customer 7\", \"Customer 8\"]\n",
        "customer_queue.extend(new_customers)\n",
        "print(\"Updated Customer Queue:\", customer_queue)\n",
        "\n",
        "# Removing Elements in to the list: Remove specific customer if they decided to leave the queue\n",
        "customer_to_remove = \"Customer 3\"\n",
        "customer_queue.remove(customer_to_remove)\n",
        "print(\"Updated Customer Queue after removal:\", customer_queue)"
      ],
      "metadata": {
        "colab": {
          "base_uri": "https://localhost:8080/"
        },
        "id": "rQdEM8BZzO-8",
        "outputId": "4bd772f8-45be-4c8e-d49e-00693fe038bb"
      },
      "execution_count": 24,
      "outputs": [
        {
          "output_type": "stream",
          "name": "stdout",
          "text": [
            "Customer Queue: ['Customer 1', 'Customer 2', 'Customer 3', 'Customer 4', 'Customer 5']\n",
            "Updated Customer Queue: ['Customer 1', 'Customer 2', 'Customer 3', 'Customer 4', 'Customer 5', 'Customer 6', 'Customer 7', 'Customer 8']\n",
            "Updated Customer Queue after removal: ['Customer 1', 'Customer 2', 'Customer 4', 'Customer 5', 'Customer 6', 'Customer 7', 'Customer 8']\n"
          ]
        }
      ]
    },
    {
      "cell_type": "code",
      "source": [
        "# popping elements : Serve the first customer and remove them from queue\n",
        "first_customer = customer_queue.pop(0)\n",
        "print(\"First Customer Served:\", first_customer)\n",
        "print(\"Updated Customer Queue:\", customer_queue)\n",
        "\n",
        "# Finding the Index of an Element: If you need to know a specific customer’s position in the queue.\n",
        "customer_index = customer_queue.index(\"Customer 5\")\n",
        "print(\"Position of Customer 5 in the queue:\", customer_index)"
      ],
      "metadata": {
        "colab": {
          "base_uri": "https://localhost:8080/"
        },
        "id": "kSGrlfIX1TAF",
        "outputId": "1a670b7e-a9c6-46ea-da66-b856cb9c653b"
      },
      "execution_count": 26,
      "outputs": [
        {
          "output_type": "stream",
          "name": "stdout",
          "text": [
            "First Customer Served: Customer 2\n",
            "Updated Customer Queue: ['Customer 4', 'Customer 5', 'Customer 6', 'Customer 7', 'Customer 8']\n",
            "Position of Customer 5 in the queue: 1\n"
          ]
        }
      ]
    },
    {
      "cell_type": "code",
      "source": [
        "# Counting Elements: Count the number of times a customer appears in the queue (e.g., if duplicate entries are allowed due to multiple services).\n",
        "customer_count = customer_queue.count(\"Customer 5\")\n",
        "print(\"Number of times Customer 5 appears in the queue:\", customer_count)"
      ],
      "metadata": {
        "colab": {
          "base_uri": "https://localhost:8080/"
        },
        "id": "na4leVfI2btx",
        "outputId": "33e28355-769c-49c0-c986-c15f54750d8d"
      },
      "execution_count": 27,
      "outputs": [
        {
          "output_type": "stream",
          "name": "stdout",
          "text": [
            "Number of times Customer 5 appears in the queue: 1\n"
          ]
        }
      ]
    },
    {
      "cell_type": "code",
      "source": [
        "# Sorting Lists: If you need to sort customers based on names\n",
        "# Inserting\n",
        "customer_queue.insert(4, \"Customer 1\")\n",
        "print(\"Updated Customer Queue:\", customer_queue)\n",
        "# Sorting the list alpha numerically\n",
        "customer_queue.sort()\n",
        "print(\"Sorted Customer Queue:\", customer_queue)\n",
        "fruits = [\"apple\", \"banana\", \"cherry\", \"GRAPS\", \"ORANGE\", \"kiwi\", \"melon\", \"mango\"]\n",
        "fruits.sort()\n",
        "print(\"After Sorted fruits:\", fruits)\n",
        "\n",
        "# Reversing Lists: Reverse the queue, for example, if customers were added in reverse order for a special arrangement.\n",
        "customer_queue.reverse()\n",
        "print(\"Reversed Customer Queue:\", customer_queue)\n",
        "fruits.reverse()\n",
        "print(\"After Reversed fruits:\", fruits)"
      ],
      "metadata": {
        "colab": {
          "base_uri": "https://localhost:8080/"
        },
        "id": "uNNt-LKX2fOU",
        "outputId": "e6ca35ef-73e1-47be-b2aa-0805f1e352b5"
      },
      "execution_count": 32,
      "outputs": [
        {
          "output_type": "stream",
          "name": "stdout",
          "text": [
            "Updated Customer Queue: ['Customer 1', 'Customer 1', 'Customer 4', 'Customer 5', 'Customer 1', 'Customer 6', 'Customer 7', 'Customer 8']\n",
            "Sorted Customer Queue: ['Customer 1', 'Customer 1', 'Customer 1', 'Customer 4', 'Customer 5', 'Customer 6', 'Customer 7', 'Customer 8']\n",
            "After Sorted fruits: ['GRAPS', 'ORANGE', 'apple', 'banana', 'cherry', 'kiwi', 'mango', 'melon']\n",
            "Reversed Customer Queue: ['Customer 8', 'Customer 7', 'Customer 6', 'Customer 5', 'Customer 4', 'Customer 1', 'Customer 1', 'Customer 1']\n",
            "After Reversed fruits: ['melon', 'mango', 'kiwi', 'cherry', 'banana', 'apple', 'ORANGE', 'GRAPS']\n"
          ]
        }
      ]
    },
    {
      "cell_type": "markdown",
      "source": [],
      "metadata": {
        "id": "Z6Vpf8QS0PUb"
      }
    },
    {
      "cell_type": "code",
      "source": [
        "# Copy : Make a copy of the current queue for backup\n",
        "queue_backup = customer_queue.copy()\n",
        "print(\"Queue Backup:\", queue_backup)\n",
        "fruits_backup = fruits.copy()\n",
        "print(\"fruits Backup:\", fruits_backup)"
      ],
      "metadata": {
        "colab": {
          "base_uri": "https://localhost:8080/"
        },
        "id": "0Rh7jj7c3-VS",
        "outputId": "eef4fc8b-b2a8-49ee-ca53-69162e88ce49"
      },
      "execution_count": 33,
      "outputs": [
        {
          "output_type": "stream",
          "name": "stdout",
          "text": [
            "Queue Backup: ['Customer 8', 'Customer 7', 'Customer 6', 'Customer 5', 'Customer 4', 'Customer 1', 'Customer 1', 'Customer 1']\n",
            "fruits Backup: ['melon', 'mango', 'kiwi', 'cherry', 'banana', 'apple', 'ORANGE', 'GRAPS']\n"
          ]
        }
      ]
    },
    {
      "cell_type": "code",
      "source": [
        "# Count how many cutomers are currently in the queue\n",
        "customer_count = len(customer_queue)\n",
        "print(\"Number of customers in the queue:\", customer_count)"
      ],
      "metadata": {
        "colab": {
          "base_uri": "https://localhost:8080/"
        },
        "id": "1hsSb21p4Xiz",
        "outputId": "fefbd77d-9c74-478b-e27e-1d38c50bb5ce"
      },
      "execution_count": 34,
      "outputs": [
        {
          "output_type": "stream",
          "name": "stdout",
          "text": [
            "Number of customers in the queue: 8\n"
          ]
        }
      ]
    },
    {
      "cell_type": "code",
      "source": [
        "# Checking Membership: See if a specific customer is in the queue.\n",
        "customer_membership_to_check = \"Customer 5\"\n",
        "if customer_membership_to_check in customer_queue:\n",
        "    print(f\"{customer_membership_to_check} is in the queue.\")"
      ],
      "metadata": {
        "colab": {
          "base_uri": "https://localhost:8080/"
        },
        "id": "hqjAlwUl5N5L",
        "outputId": "a16a0f90-e85b-4d9a-d05d-85c84f452766"
      },
      "execution_count": 37,
      "outputs": [
        {
          "output_type": "stream",
          "name": "stdout",
          "text": [
            "Customer 5 is in the queue.\n"
          ]
        }
      ]
    },
    {
      "cell_type": "code",
      "source": [
        "# Print out all customers in the queue for reporting purpose\n",
        "print(\"All Customers in the Queue:\")\n",
        "for customer in customer_queue:\n",
        "    print(customer)"
      ],
      "metadata": {
        "colab": {
          "base_uri": "https://localhost:8080/"
        },
        "id": "twSZhVh156Pf",
        "outputId": "f1105cce-8db8-491b-9dc5-ba95dfd3b677"
      },
      "execution_count": 38,
      "outputs": [
        {
          "output_type": "stream",
          "name": "stdout",
          "text": [
            "All Customers in the Queue:\n",
            "Customer 8\n",
            "Customer 7\n",
            "Customer 6\n",
            "Customer 5\n",
            "Customer 4\n",
            "Customer 1\n",
            "Customer 1\n",
            "Customer 1\n"
          ]
        }
      ]
    },
    {
      "cell_type": "code",
      "source": [
        "# Enumarate\n",
        "print(\"Customers in the Queue with Indices:\")\n",
        "for index, customer in enumerate(customer_queue):\n",
        "    print(f\"Index {index}: {customer}\")"
      ],
      "metadata": {
        "colab": {
          "base_uri": "https://localhost:8080/"
        },
        "id": "63sCVo036YmL",
        "outputId": "b80f5130-0641-4e9b-be37-cdd19ca58393"
      },
      "execution_count": 41,
      "outputs": [
        {
          "output_type": "stream",
          "name": "stdout",
          "text": [
            "Customers in the Queue with Indices:\n",
            "Index 0: Customer 8\n",
            "Index 1: Customer 7\n",
            "Index 2: Customer 6\n",
            "Index 3: Customer 5\n",
            "Index 4: Customer 4\n",
            "Index 5: Customer 1\n",
            "Index 6: Customer 1\n",
            "Index 7: Customer 1\n"
          ]
        }
      ]
    },
    {
      "cell_type": "code",
      "source": [
        "# Enumarate\n",
        "print(\"Customers in the Queue with Indices:\")\n",
        "for index, customer in enumerate(customer_queue):\n",
        "    print(f\"Index {index + 1}: {customer}\")"
      ],
      "metadata": {
        "colab": {
          "base_uri": "https://localhost:8080/"
        },
        "id": "fVrCWTyX7PZk",
        "outputId": "0b9f6535-d777-4754-f016-c3cd3164efd8"
      },
      "execution_count": 42,
      "outputs": [
        {
          "output_type": "stream",
          "name": "stdout",
          "text": [
            "Customers in the Queue with Indices:\n",
            "Index 1: Customer 8\n",
            "Index 2: Customer 7\n",
            "Index 3: Customer 6\n",
            "Index 4: Customer 5\n",
            "Index 5: Customer 4\n",
            "Index 6: Customer 1\n",
            "Index 7: Customer 1\n",
            "Index 8: Customer 1\n"
          ]
        }
      ]
    },
    {
      "cell_type": "code",
      "source": [
        "# Numbers in list\n",
        "num_list = [int(x) for x in input(\"enter list of elements\").split()]\n",
        "sum = 0\n",
        "for a in num_list:\n",
        "    sum += a\n",
        "print(\"Sum of elements:\", sum)"
      ],
      "metadata": {
        "colab": {
          "base_uri": "https://localhost:8080/"
        },
        "id": "tbin00oP7hVI",
        "outputId": "912dbb7b-ced1-4f36-8943-ed8dd2630330"
      },
      "execution_count": 49,
      "outputs": [
        {
          "output_type": "stream",
          "name": "stdout",
          "text": [
            "enter list of elements1 2 3 4 5\n",
            "Sum of elements: 15\n"
          ]
        }
      ]
    },
    {
      "cell_type": "code",
      "source": [
        "# creating list of Integers\n",
        "numbers = [10, 30 ,40 ,50 ,60 ,70]\n",
        "print(\"Original list:\" , numbers)"
      ],
      "metadata": {
        "colab": {
          "base_uri": "https://localhost:8080/"
        },
        "id": "2V8-uSlI8zml",
        "outputId": "89b736ee-d6ba-44c8-d933-aa2ddf669899"
      },
      "execution_count": 50,
      "outputs": [
        {
          "output_type": "stream",
          "name": "stdout",
          "text": [
            "Original list: [10, 30, 40, 50, 60, 70]\n"
          ]
        }
      ]
    },
    {
      "cell_type": "code",
      "source": [
        "# Accecing Elements\n",
        "print(\"First element:\", numbers[0])\n",
        "print(\"Third element:\", numbers[2])\n",
        "print(\"Last element:\",  numbers[-1])"
      ],
      "metadata": {
        "colab": {
          "base_uri": "https://localhost:8080/"
        },
        "id": "2c9uUGVX9ffC",
        "outputId": "15f930af-75ec-4e91-9cb5-b67ef8c6a37d"
      },
      "execution_count": 52,
      "outputs": [
        {
          "output_type": "stream",
          "name": "stdout",
          "text": [
            "First element: 10\n",
            "Third element: 40\n",
            "Last element: 70\n"
          ]
        }
      ]
    },
    {
      "cell_type": "code",
      "source": [
        "# Modifiying Elements\n",
        "numbers[0] = 20\n",
        "numbers[2] = 50\n",
        "numbers[3] = 60\n",
        "print(\"After modification:\", numbers)"
      ],
      "metadata": {
        "colab": {
          "base_uri": "https://localhost:8080/"
        },
        "id": "K9kRqQs59vnN",
        "outputId": "e5e09a4f-025c-43d5-a999-23257bc68e32"
      },
      "execution_count": 53,
      "outputs": [
        {
          "output_type": "stream",
          "name": "stdout",
          "text": [
            "After modification: [20, 30, 50, 60, 60, 70]\n"
          ]
        }
      ]
    },
    {
      "cell_type": "code",
      "source": [
        "# Appending elements\n",
        "numbers.append(80) # Addinmg element at the end\n",
        "print(\"After appending:\", numbers)"
      ],
      "metadata": {
        "colab": {
          "base_uri": "https://localhost:8080/"
        },
        "id": "Vb9PlRGl97Vd",
        "outputId": "f773aeaf-304f-444f-bb28-503ffbb14e5c"
      },
      "execution_count": 54,
      "outputs": [
        {
          "output_type": "stream",
          "name": "stdout",
          "text": [
            "After appending: [20, 30, 50, 60, 60, 70, 80]\n"
          ]
        }
      ]
    },
    {
      "cell_type": "code",
      "source": [
        "# Inserting element at specific index\n",
        "numbers.insert(2, 35) # Inserting element at index 2\n",
        "print(\"After inserting:\", numbers)"
      ],
      "metadata": {
        "colab": {
          "base_uri": "https://localhost:8080/"
        },
        "id": "-tzBJt9h-K24",
        "outputId": "cf4c66f5-d845-481e-b397-c37d14fc1829"
      },
      "execution_count": 55,
      "outputs": [
        {
          "output_type": "stream",
          "name": "stdout",
          "text": [
            "After inserting: [20, 30, 35, 50, 60, 60, 70, 80]\n"
          ]
        }
      ]
    },
    {
      "cell_type": "code",
      "source": [
        "# Extending list by adding other list\n",
        "more_numbers = [90, 100, 110]\n",
        "numbers.extend(more_numbers)\n",
        "print(\"After extending:\", numbers)"
      ],
      "metadata": {
        "colab": {
          "base_uri": "https://localhost:8080/"
        },
        "id": "xQMXcWug-WiA",
        "outputId": "2ea27134-bed4-478b-918e-8d6f1965c5c6"
      },
      "execution_count": 56,
      "outputs": [
        {
          "output_type": "stream",
          "name": "stdout",
          "text": [
            "After extending: [20, 30, 35, 50, 60, 60, 70, 80, 90, 100, 110]\n"
          ]
        }
      ]
    },
    {
      "cell_type": "code",
      "source": [
        "# Remoing elements by value\n",
        "numbers.remove(60) # it will remove only first occurance\n",
        "print(\"After removing by value:\", numbers)"
      ],
      "metadata": {
        "colab": {
          "base_uri": "https://localhost:8080/"
        },
        "id": "3-QMB8Pn-lWh",
        "outputId": "354af903-8107-4eb9-cfb7-a90d26a1e5ff"
      },
      "execution_count": 57,
      "outputs": [
        {
          "output_type": "stream",
          "name": "stdout",
          "text": [
            "After removing by value: [20, 30, 35, 50, 60, 70, 80, 90, 100, 110]\n"
          ]
        }
      ]
    },
    {
      "cell_type": "code",
      "source": [
        "# Removing by Index\n",
        "removed_items = numbers.pop(3) # it will remove only first occurance\n",
        "print(\"Removed item:\", removed_items)\n",
        "print(\"After removing by index:\", numbers)"
      ],
      "metadata": {
        "colab": {
          "base_uri": "https://localhost:8080/"
        },
        "id": "HNjAgUe2_Ijb",
        "outputId": "ebed5dba-c1a2-4f8b-a393-57d822cb7dc6"
      },
      "execution_count": 59,
      "outputs": [
        {
          "output_type": "stream",
          "name": "stdout",
          "text": [
            "Removed item: 50\n",
            "After removing by index: [20, 30, 35, 60, 70, 80, 90, 100, 110]\n"
          ]
        }
      ]
    },
    {
      "cell_type": "code",
      "source": [
        "# Deleting elements from list\n",
        "del numbers[2]\n",
        "print(\"After deleting:\", numbers)"
      ],
      "metadata": {
        "colab": {
          "base_uri": "https://localhost:8080/"
        },
        "id": "8kDFnnu4_jH7",
        "outputId": "275ab082-314c-45c5-fc02-a77624f00699"
      },
      "execution_count": 60,
      "outputs": [
        {
          "output_type": "stream",
          "name": "stdout",
          "text": [
            "After deleting: [20, 30, 60, 70, 80, 90, 100, 110]\n"
          ]
        }
      ]
    },
    {
      "cell_type": "code",
      "source": [
        "# Clearing elements from lisr\n",
        "numbers.clear()\n",
        "print(\"After clearing:\", numbers)"
      ],
      "metadata": {
        "colab": {
          "base_uri": "https://localhost:8080/"
        },
        "id": "ro1482Df_tpX",
        "outputId": "d30d3d4d-5a14-4804-be7c-13709c3711ca"
      },
      "execution_count": 61,
      "outputs": [
        {
          "output_type": "stream",
          "name": "stdout",
          "text": [
            "After clearing: []\n"
          ]
        }
      ]
    },
    {
      "cell_type": "code",
      "source": [
        "# Recreating the list for further operations\n",
        "numbers = [10, 20, 30, 40, 50, 60, 70, 80, 90, 100]\n",
        "\n",
        "# Sorting the list\n",
        "numbers.sort() # sorting in assending order\n",
        "print(\"After sorting:\", numbers)\n",
        "\n",
        "# Sorting in revers order\n",
        "numbers.sort(reverse=True)\n",
        "print(\"After sorting in reverse order:\", numbers)\n",
        "\n",
        "# revers order\n",
        "numbers.reverse()\n",
        "print(\"After reversing:\", numbers)\n",
        "\n",
        "# Finding the index of an element\n",
        "index = numbers.index(40)\n",
        "print(\"Index of 40:\", index)\n",
        "\n",
        "# Counting the occurance of an element\n",
        "count = numbers.count(50)\n",
        "print(\"Count of 50:\", count)\n",
        "\n",
        "# slicing a list\n",
        "sub_list = numbers[1:4] #slicing index 1 to 3 ( 4 is excluded)\n",
        "print(\"Sliced list:\", sub_list)\n",
        "\n",
        "# copying list\n",
        "copied_list = numbers.copy()\n",
        "print(\"Copied list:\", copied_list)\n",
        "\n",
        "# Checking list is empty\n",
        "print(\"Original list:\", numbers)\n",
        "if numbers:\n",
        "    print(\"The list is not empty.\")\n",
        "else:\n",
        "    print(\"The list is empty.\")\n",
        "\n",
        "# Lenth of the list\n",
        "length = len(numbers)\n",
        "print(\"Length of the list:\", length)\n",
        "\n",
        "# Checking if the item is exist or not\n",
        "if 120 in numbers:\n",
        "    print(\"120 is in the list.\")\n",
        "else:\n",
        "    print(\"120 is not in the list.\")\n",
        "\n",
        "# Joining (combining mutipile list) into single list\n",
        "combined_list = numbers + more_numbers\n",
        "print(\"Combined list:\", combined_list)\n",
        "\n",
        "# Maximum and Minumu into the list\n",
        "maximum = max(numbers)\n",
        "minimum = min(numbers)\n",
        "print(\"Maximum:\", maximum)\n",
        "print(\"Minimum:\", minimum)\n",
        "\n",
        "# Maximum and Minumu into the list more_number\n",
        "maximum = max(more_numbers)\n",
        "minimum = min(more_numbers)\n",
        "print(\"Maximum:\", maximum)\n",
        "print(\"Minimum:\", minimum)\n",
        "\n",
        "# Iterating through the List\n",
        "print(\"Iterating through the List:\")\n",
        "for num in numbers:\n",
        "    print(num)\n"
      ],
      "metadata": {
        "colab": {
          "base_uri": "https://localhost:8080/"
        },
        "id": "NkDD-K7g_1VD",
        "outputId": "218304b1-5a13-42fc-8b85-c35554d05b1a"
      },
      "execution_count": 79,
      "outputs": [
        {
          "output_type": "stream",
          "name": "stdout",
          "text": [
            "After sorting: [10, 20, 30, 40, 50, 60, 70, 80, 90, 100]\n",
            "After sorting in reverse order: [100, 90, 80, 70, 60, 50, 40, 30, 20, 10]\n",
            "After reversing: [10, 20, 30, 40, 50, 60, 70, 80, 90, 100]\n",
            "Index of 40: 3\n",
            "Count of 50: 1\n",
            "Sliced list: [20, 30, 40]\n",
            "Copied list: [10, 20, 30, 40, 50, 60, 70, 80, 90, 100]\n",
            "Original list: [10, 20, 30, 40, 50, 60, 70, 80, 90, 100]\n",
            "The list is not empty.\n",
            "Length of the list: 10\n",
            "120 is not in the list.\n",
            "Combined list: [10, 20, 30, 40, 50, 60, 70, 80, 90, 100, 90, 100, 110]\n",
            "Maximum: 100\n",
            "Minimum: 10\n",
            "Maximum: 110\n",
            "Minimum: 90\n",
            "Iterating through the List:\n",
            "10\n",
            "20\n",
            "30\n",
            "40\n",
            "50\n",
            "60\n",
            "70\n",
            "80\n",
            "90\n",
            "100\n"
          ]
        }
      ]
    },
    {
      "cell_type": "code",
      "source": [],
      "metadata": {
        "id": "Rfn6jxvWAQBb"
      },
      "execution_count": null,
      "outputs": []
    }
  ]
}