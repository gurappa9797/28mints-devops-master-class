{
  "nbformat": 4,
  "nbformat_minor": 0,
  "metadata": {
    "colab": {
      "provenance": [],
      "authorship_tag": "ABX9TyPRT6Nq+TQ3+Ppud+cdF+SJ",
      "include_colab_link": true
    },
    "kernelspec": {
      "name": "python3",
      "display_name": "Python 3"
    },
    "language_info": {
      "name": "python"
    }
  },
  "cells": [
    {
      "cell_type": "markdown",
      "metadata": {
        "id": "view-in-github",
        "colab_type": "text"
      },
      "source": [
        "<a href=\"https://colab.research.google.com/github/gurappa9797/28mints-devops-master-class/blob/master/tuples.ipynb\" target=\"_parent\"><img src=\"https://colab.research.google.com/assets/colab-badge.svg\" alt=\"Open In Colab\"/></a>"
      ]
    },
    {
      "cell_type": "code",
      "execution_count": 12,
      "metadata": {
        "colab": {
          "base_uri": "https://localhost:8080/"
        },
        "id": "SEOUI9GBmDIO",
        "outputId": "49d6b0b6-8529-4c83-c402-9b3d57435ce0"
      },
      "outputs": [
        {
          "output_type": "stream",
          "name": "stdout",
          "text": [
            "('physics', 'chemistry', 1997, 2000)\n",
            "(1, 2, 3, 4, 5)\n",
            "('a', 'b', 'c', 'd')\n",
            "tup1[0]:  physics\n",
            "tup2[1:4]:  (2, 3, 4)\n",
            "tup3[0:2]: ('a', 'b')\n",
            "(12, 34.56, 'abc', 'xyz')\n",
            "('matchs', 'social', 1998, 2002)\n",
            "After deleting tup5 :\n",
            "('apple', 'banana', 'cherry')\n",
            "apple\n",
            "banana\n",
            "cherry\n",
            "apple\n",
            "a\n",
            "p\n",
            "e\n",
            "banana\n",
            "b\n",
            "n\n",
            "n\n",
            "cherry\n",
            "c\n",
            "e\n",
            "r\n"
          ]
        }
      ],
      "source": [
        "# Creating Tuples\n",
        "\n",
        "tup1 = ('physics', 'chemistry', 1997, 2000)\n",
        "tup2 = (1, 2, 3, 4, 5 )\n",
        "tup3 = \"a\", \"b\", \"c\", \"d\"\n",
        "print(tup1)\n",
        "print(tup2)\n",
        "print(tup3)\n",
        "\n",
        "# Accessing Values in Tuples (Indexing)\n",
        "\n",
        "print(\"tup1[0]: \", tup1[0])\n",
        "print(\"tup2[1:4]: \", tup2[1:4])\n",
        "print(\"tup3[0:2]:\", tup3[0:2])\n",
        "\n",
        "# Updating Tuples\n",
        "\n",
        "tup1 = (12, 34.56)\n",
        "tup2 = ('abc', 'xyz')\n",
        "tup3 = tup1 + tup2\n",
        "print(tup3)\n",
        "\n",
        "# Deleting Tuples\n",
        "\n",
        "tup5 = ('matchs', 'social', 1998, 2002)\n",
        "print(tup5)\n",
        "del tup5\n",
        "print(\"After deleting tup5 :\")\n",
        "\n",
        "# Iterating through using tuple\n",
        "fruits = (\"apple\", \"banana\", \"cherry\")\n",
        "print(fruits)\n",
        "print(fruits[0])\n",
        "print(fruits[1])\n",
        "print(fruits[2])\n",
        "for x in fruits:\n",
        "  print(x)\n",
        "  print(x[0])\n",
        "  print(x[2])\n",
        "  print(x[4])\n"
      ]
    },
    {
      "cell_type": "code",
      "source": [
        "# Contatinatiiong Tuple\n",
        "veg_value = ('carrot', 'Papper', 'bringal', 'tamoto')\n",
        "fv = fruits + veg_value\n",
        "print(fv)"
      ],
      "metadata": {
        "colab": {
          "base_uri": "https://localhost:8080/"
        },
        "id": "NKUM_-3YqKac",
        "outputId": "2758931a-cf38-4cfe-d87b-289bc1879a54"
      },
      "execution_count": 13,
      "outputs": [
        {
          "output_type": "stream",
          "name": "stdout",
          "text": [
            "('apple', 'banana', 'cherry', 'carrot', 'Papper', 'bringal', 'tamoto')\n"
          ]
        }
      ]
    },
    {
      "cell_type": "code",
      "source": [
        "# Repeting an elements (adding same elements multiple times)\n",
        "rept_vales = fv * 2\n",
        "print(rept_vales)"
      ],
      "metadata": {
        "colab": {
          "base_uri": "https://localhost:8080/"
        },
        "id": "mPKlM4z1nHoz",
        "outputId": "fcd4289c-f0a1-453a-adc7-793aca5939ce"
      },
      "execution_count": 14,
      "outputs": [
        {
          "output_type": "stream",
          "name": "stdout",
          "text": [
            "('apple', 'banana', 'cherry', 'carrot', 'Papper', 'bringal', 'tamoto', 'apple', 'banana', 'cherry', 'carrot', 'Papper', 'bringal', 'tamoto')\n"
          ]
        }
      ]
    },
    {
      "cell_type": "code",
      "source": [
        "# Length Of Tuples\n",
        "print(len(fv))\n",
        "print(len(rept_vales))"
      ],
      "metadata": {
        "colab": {
          "base_uri": "https://localhost:8080/"
        },
        "id": "woAOi4bIrJk5",
        "outputId": "10df5a83-4bc4-40a5-8049-469a1b47b558"
      },
      "execution_count": 17,
      "outputs": [
        {
          "output_type": "stream",
          "name": "stdout",
          "text": [
            "7\n",
            "14\n"
          ]
        }
      ]
    },
    {
      "cell_type": "code",
      "source": [
        "# counting occurance of an element\n",
        "print(fv.count('apple'))\n",
        "print(rept_vales.count('carrot'))"
      ],
      "metadata": {
        "colab": {
          "base_uri": "https://localhost:8080/"
        },
        "id": "k6m932Uhrkua",
        "outputId": "467d9548-cb4c-4a2b-9634-336dc255473d"
      },
      "execution_count": 19,
      "outputs": [
        {
          "output_type": "stream",
          "name": "stdout",
          "text": [
            "1\n",
            "2\n"
          ]
        }
      ]
    },
    {
      "cell_type": "code",
      "source": [
        "# Finding indexing of an element\n",
        "print(fv.index('apple'))\n",
        "print(rept_vales.index('carrot'))"
      ],
      "metadata": {
        "colab": {
          "base_uri": "https://localhost:8080/"
        },
        "id": "zldcJDUEsXhd",
        "outputId": "67dfddc1-c27e-41b6-a0e3-b591e629079b"
      },
      "execution_count": 20,
      "outputs": [
        {
          "output_type": "stream",
          "name": "stdout",
          "text": [
            "0\n",
            "3\n"
          ]
        }
      ]
    },
    {
      "cell_type": "code",
      "source": [
        " if 'apple' in fv:\n",
        "    print('yes')\n",
        "else:\n",
        "    print('no')\n",
        "\n",
        "# Not in the list\n",
        "if 'apple' not in fv:\n",
        "    print('yes')\n",
        "else:\n",
        "    print('no')\n",
        "\n",
        "\n",
        " if 'mango' in rept_vales:\n",
        "    print('yes')\n",
        "else:\n",
        "    print('no')\n",
        "\n",
        "# Not in the list\n",
        "if 'mango' not in fv:\n",
        "    print('yes')\n",
        "else:\n",
        "    print('no')\n",
        "\n"
      ],
      "metadata": {
        "colab": {
          "base_uri": "https://localhost:8080/"
        },
        "id": "hRqyilP6siPJ",
        "outputId": "2a1f9ea9-cce4-44cb-fdda-36f083a751df"
      },
      "execution_count": 24,
      "outputs": [
        {
          "output_type": "stream",
          "name": "stdout",
          "text": [
            "yes\n",
            "no\n",
            "no\n",
            "yes\n"
          ]
        }
      ]
    },
    {
      "cell_type": "code",
      "source": [
        "# Tuple unpacking\n",
        "fruits = (\"apple\", \"banana\", \"cherry\")\n",
        "(green, yellow, red) = fruits\n",
        "print(green)\n",
        "print(yellow)\n",
        "print(red)\n",
        "\n",
        "person = (\"John\", 25, \"New York\", \"s/w engineer\")\n",
        "print(\"person\", person)\n",
        "name, age, city, profession = person\n",
        "print(f\"unpacked tuple: Name = {name}, Age = {age}, City = {city}, Profession = {profession}\")\n",
        "print(f\"unpacked tuple: Name = (name), Age = (age), City = (city), Profession = (profession)\") # if not giving correct brackes it will give diffrent output\n",
        "print(name)\n",
        "print(age)\n",
        "print(city)\n",
        "print(profession)\n"
      ],
      "metadata": {
        "colab": {
          "base_uri": "https://localhost:8080/"
        },
        "id": "_nP6M4-quX0J",
        "outputId": "d9e1abb8-393d-4338-f961-49e441d2ad2e"
      },
      "execution_count": 41,
      "outputs": [
        {
          "output_type": "stream",
          "name": "stdout",
          "text": [
            "apple\n",
            "banana\n",
            "cherry\n",
            "person ('John', 25, 'New York', 's/w engineer')\n",
            "unpacked tuple: Name = John, Age = 25, City = New York, Profession = s/w engineer\n",
            "unpacked tuple: Name = (name), Age = (age), City = (city), Profession = (profession)\n",
            "John\n",
            "25\n",
            "New York\n",
            "s/w engineer\n"
          ]
        }
      ]
    },
    {
      "cell_type": "code",
      "source": [
        "# Converting List to tuple\n",
        "my_list = [1, 2, 3, 4, 5]\n",
        "print(my_list)\n",
        "my_tuple = tuple(my_list)\n",
        "print(my_tuple)\n",
        "\n",
        "fruits = [\"apple\", \"banana\", \"cherry\"]\n",
        "print(fruits)\n",
        "fruits_tuple = tuple(fruits)\n",
        "print(\"after converting list to tuple:\", fruits_tuple)"
      ],
      "metadata": {
        "colab": {
          "base_uri": "https://localhost:8080/"
        },
        "id": "uCy1PVKpxiXQ",
        "outputId": "36bef28b-8b65-4b82-9575-f7c82b42cbd9"
      },
      "execution_count": 45,
      "outputs": [
        {
          "output_type": "stream",
          "name": "stdout",
          "text": [
            "[1, 2, 3, 4, 5]\n",
            "(1, 2, 3, 4, 5)\n",
            "['apple', 'banana', 'cherry']\n",
            "after converting list to tuple: ('apple', 'banana', 'cherry')\n"
          ]
        }
      ]
    },
    {
      "cell_type": "code",
      "source": [
        "# Maximum and Minimum value in tuple\n",
        "print(max(my_tuple))\n",
        "print(min(my_tuple))\n",
        "\n",
        "nums = (10, 20, 30, 40, 50)\n",
        "print(\"Maximum Number in tuple ;\", max(nums))\n",
        "print(\"Minimum Number in tuple ;\", min(nums))"
      ],
      "metadata": {
        "colab": {
          "base_uri": "https://localhost:8080/"
        },
        "id": "xNGXgyrQys_x",
        "outputId": "98c59b29-1df6-4c9b-cbf3-dcdb5d642f43"
      },
      "execution_count": 48,
      "outputs": [
        {
          "output_type": "stream",
          "name": "stdout",
          "text": [
            "5\n",
            "1\n",
            "Maximum Number in tuple ; 50\n",
            "Minimum Number in tuple ; 10\n"
          ]
        }
      ]
    },
    {
      "cell_type": "code",
      "source": [
        "import getpass\n",
        "# Credintials matching program\n",
        "credentials = (\"guruadmin\", \"Welcome@12345\")\n",
        "username = input(\"enter user name: \")\n",
        "# password = input(\"enter password: \")\n",
        "password = getpass.getpass(\"enter password: \")\n",
        "if username == credentials[0] and password == credentials[1]:\n",
        "    print(\"Login Successfull\")\n",
        "else:\n",
        "    print(\"Login Failed: Invalid user name and password\")\n"
      ],
      "metadata": {
        "colab": {
          "base_uri": "https://localhost:8080/"
        },
        "id": "Rqx2BxPYzjTz",
        "outputId": "fae7fde4-a1c0-4394-bab6-4c51c97409b5"
      },
      "execution_count": 55,
      "outputs": [
        {
          "output_type": "stream",
          "name": "stdout",
          "text": [
            "enter user name: guruadmin\n",
            "enter password: ··········\n",
            "Login Successfull\n"
          ]
        }
      ]
    },
    {
      "cell_type": "markdown",
      "source": [
        " Representing GPS Coordinates and Timestamps"
      ],
      "metadata": {
        "id": "R007Lr1q5aEG"
      }
    },
    {
      "cell_type": "code",
      "source": [
        "# Each location tuple contains (latitude, longitude, timestamp)\n",
        "\n",
        "checkpoint_1 = (37.7749, -122.4194, \"2024-10-29 09:30:00\")\n",
        "checkpoint_2 = (37.8044, -122.2711, \"2024-10-29 10:45:00\")\n",
        "\n",
        "\n",
        "# Accessing Coordinates and Timestamp: You can access specific parts of each checkpoint for display or analysis.\n",
        "\n",
        "(latitude, longitude, timestamp) = checkpoint_1\n",
        "print(f\"Checkpoint 1 - Latitude: {latitude}, Longitude: {longitude}, Timestamp: {timestamp}\")\n",
        "print(f\"Checkpoint 1 at coordinates ({latitude}, {longitude}) was reached at {timestamp}.\")\n",
        "\n",
        "(latitude, longitude, timestamp) = checkpoint_2\n",
        "print(f\"Checkpoint 2 - Latitude: {latitude}, Longitude: {longitude}, Timestamp: {timestamp}\")\n",
        "print(f\"Checkpoint 2 at coordinates ({latitude}, {longitude}) was reached at {timestamp}.\")"
      ],
      "metadata": {
        "colab": {
          "base_uri": "https://localhost:8080/"
        },
        "id": "TV8H4HV65NGS",
        "outputId": "019ecd6d-edf1-4345-b3d7-25be9a2e4502"
      },
      "execution_count": 57,
      "outputs": [
        {
          "output_type": "stream",
          "name": "stdout",
          "text": [
            "Checkpoint 1 - Latitude: 37.7749, Longitude: -122.4194, Timestamp: 2024-10-29 09:30:00\n",
            "Checkpoint 1 at coordinates (37.7749, -122.4194) was reached at 2024-10-29 09:30:00.\n",
            "Checkpoint 2 - Latitude: 37.8044, Longitude: -122.2711, Timestamp: 2024-10-29 10:45:00\n",
            "Checkpoint 2 at coordinates (37.8044, -122.2711) was reached at 2024-10-29 10:45:00.\n"
          ]
        }
      ]
    },
    {
      "cell_type": "code",
      "source": [
        "from geopy.distance import geodesic\n",
        "\n",
        "lat1, lon1, _ = checkpoint_1\n",
        "lat2, lon2, _ = checkpoint_2\n",
        "distance = geodesic((lat1, lon1), (lat2, lon2)).kilometers\n",
        "print(f\"The distance between Checkpoint 1 and Checkpoint 2 is approximately {distance:.2f} kilometers.\")"
      ],
      "metadata": {
        "colab": {
          "base_uri": "https://localhost:8080/"
        },
        "id": "ssrOe8u97gJV",
        "outputId": "575155de-227a-40a6-d846-4d286a63f78d"
      },
      "execution_count": 60,
      "outputs": [
        {
          "output_type": "stream",
          "name": "stdout",
          "text": [
            "The distance between Checkpoint 1 and Checkpoint 2 is approximately 13.47 kilometers.\n"
          ]
        }
      ]
    }
  ]
}