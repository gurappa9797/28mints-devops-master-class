{
  "nbformat": 4,
  "nbformat_minor": 0,
  "metadata": {
    "colab": {
      "provenance": [],
      "authorship_tag": "ABX9TyMh3qYCogULKqyIsO4hkyWy",
      "include_colab_link": true
    },
    "kernelspec": {
      "name": "python3",
      "display_name": "Python 3"
    },
    "language_info": {
      "name": "python"
    }
  },
  "cells": [
    {
      "cell_type": "markdown",
      "metadata": {
        "id": "view-in-github",
        "colab_type": "text"
      },
      "source": [
        "<a href=\"https://colab.research.google.com/github/gurappa9797/28mints-devops-master-class/blob/master/Dictionaries_%26_Functions.ipynb\" target=\"_parent\"><img src=\"https://colab.research.google.com/assets/colab-badge.svg\" alt=\"Open In Colab\"/></a>"
      ]
    },
    {
      "cell_type": "markdown",
      "source": [
        "Dictionaries: A collection of key-value pairs. Each key is unique and is used to access its corresponding value.\n",
        "\n",
        "Syntax: Defined using curly braces {} with key-value pairs separated by colons :.\n",
        " 1. User Profile Data\n",
        " 2. Storing Product Details in an E-commerce App\n",
        " 3. Tracking Inventory in a Store\n",
        " 4. Mapping Student Grades\n",
        " 5. Phonebook Application\n"
      ],
      "metadata": {
        "id": "hzgBVjNe8-eR"
      }
    },
    {
      "cell_type": "code",
      "execution_count": 6,
      "metadata": {
        "colab": {
          "base_uri": "https://localhost:8080/"
        },
        "id": "n4CVVB9G80cx",
        "outputId": "49638140-d725-4996-9157-a6da1a2e0ff4"
      },
      "outputs": [
        {
          "output_type": "stream",
          "name": "stdout",
          "text": [
            "{'name': 'John Doe', 'age': 30, 'city': 'New York', 'profession': 'S/W Engineer'}\n",
            "Keys: dict_keys(['name', 'age', 'city', 'profession'])\n",
            "dict_values(['John Doe', 30, 'New York', 'S/W Engineer'])\n",
            "name: John Doe\n",
            "age: 30\n",
            "city: New York\n",
            "profession: S/W Engineer\n"
          ]
        }
      ],
      "source": [
        "# Creating user Profile under dictionaries\n",
        "user_profile = {\n",
        "    \"name\": \"John Doe\",\n",
        "    \"age\": 30,\n",
        "    \"city\": \"New York\",\n",
        "    \"profession\": \"S/W Engineer\"\n",
        "}\n",
        "print(user_profile)\n",
        "\n",
        "# Getting all the Keys\n",
        "keys = user_profile.keys()\n",
        "print(\"Keys:\", keys)\n",
        "\n",
        "# Getting all the Values\n",
        "values = user_profile.values()\n",
        "print(values)\n",
        "\n",
        "# If you want to loop through both keys and values\n",
        "for key, value in user_profile.items():\n",
        "    print(f\"{key}: {value}\")"
      ]
    },
    {
      "cell_type": "code",
      "source": [
        "# Intialize dictionary\n",
        "person = {\n",
        "    \"name\": \"Guru\",\n",
        "    \"age\": 30,\n",
        "    \"city\": \"virginia\"\n",
        "}\n",
        "\n",
        "# Print the initial Dictionary\n",
        "print(\"inital dictionary:\", person)\n",
        "\n",
        "# Accesing elements\n",
        "print(\"Name:\", person[\"name\"])\n",
        "print(\"Age:\", person[\"age\"])\n",
        "print(\"City:\", person[\"city\"])\n",
        "\n",
        "# Modifying elements\n",
        "person[\"age\"] = 31\n",
        "print(\"After modifed age:\", person[\"age\"])"
      ],
      "metadata": {
        "colab": {
          "base_uri": "https://localhost:8080/"
        },
        "id": "P6tUaH-aflTh",
        "outputId": "fd772911-7566-47bd-91b2-1e28130a00e8"
      },
      "execution_count": 10,
      "outputs": [
        {
          "output_type": "stream",
          "name": "stdout",
          "text": [
            "inital dictionary: {'name': 'Guru', 'age': 30, 'city': 'virginia'}\n",
            "Name: Guru\n",
            "Age: 30\n",
            "City: virginia\n",
            "After modifed age: 31\n"
          ]
        }
      ]
    },
    {
      "cell_type": "code",
      "source": [
        "# Using Get methods to access elements\n",
        "print(\"\\n7. using get() method to access a keys and values\")\n",
        "print(\"Name:\", person.get(\"name\"))\n",
        "print(\"Age:\", person.get(\"age\"))\n",
        "print(\"City:\", person.get(\"city\"))"
      ],
      "metadata": {
        "colab": {
          "base_uri": "https://localhost:8080/"
        },
        "id": "j2TrS50kg70Q",
        "outputId": "613db915-53b3-429f-e57f-be43ef124d50"
      },
      "execution_count": 12,
      "outputs": [
        {
          "output_type": "stream",
          "name": "stdout",
          "text": [
            "\n",
            "7. using get() method to access a keys and values\n",
            "Name: Guru\n",
            "Age: 31\n",
            "City: virginia\n"
          ]
        }
      ]
    },
    {
      "cell_type": "code",
      "source": [
        "# Adding new key value pairs to dictionary\n",
        "print(\"\\n8. Adding new key value pairs to dictionary\")\n",
        "person[\"occupation\"] = \"Engineer\"\n",
        "person[\"country\"] = \"USA\"\n",
        "print(person)"
      ],
      "metadata": {
        "colab": {
          "base_uri": "https://localhost:8080/"
        },
        "id": "m4NQex4ChvHy",
        "outputId": "34253b14-8d43-403b-ff2c-73dd85bb6282"
      },
      "execution_count": 13,
      "outputs": [
        {
          "output_type": "stream",
          "name": "stdout",
          "text": [
            "\n",
            "8. Adding new key value pairs to dictionary\n",
            "{'name': 'Guru', 'age': 31, 'city': 'virginia', 'occupation': 'Engineer', 'country': 'USA'}\n"
          ]
        }
      ]
    },
    {
      "cell_type": "code",
      "source": [
        "# updating a value\n",
        "print(\"\\n9. updating a value\")\n",
        "person[\"age\"] = 32\n",
        "print(person)\n",
        "person[0] = \"sai\"\n",
        "print(person)"
      ],
      "metadata": {
        "colab": {
          "base_uri": "https://localhost:8080/"
        },
        "id": "QKtY_NU9iJXy",
        "outputId": "9f8b0d05-80eb-47bf-ec63-0df81f789f05"
      },
      "execution_count": 17,
      "outputs": [
        {
          "output_type": "stream",
          "name": "stdout",
          "text": [
            "\n",
            "9. updating a value\n",
            "{'name': 'Guru', 'age': 32, 'city': 'virginia', 'occupation': 'Engineer', 'country': 'USA', 0: 'sai'}\n",
            "{'name': 'Guru', 'age': 32, 'city': 'virginia', 'occupation': 'Engineer', 'country': 'USA', 0: 'sai'}\n"
          ]
        }
      ]
    },
    {
      "cell_type": "code",
      "source": [
        "# Creating dictionary using dict() consturctor\n",
        "print(\"\\n10. Creating dictionary using dict() consturctor\")\n",
        "new_person = dict(name=\"hesh\", age=20, city=\"virginia\", var=3, )\n",
        "print(new_person[\"name\"])\n",
        "print(\"new dictionary:\", new_person)"
      ],
      "metadata": {
        "colab": {
          "base_uri": "https://localhost:8080/"
        },
        "id": "w00BlQW9i0LI",
        "outputId": "25ddc608-9fe6-440f-d861-0c73b49b33e1"
      },
      "execution_count": 22,
      "outputs": [
        {
          "output_type": "stream",
          "name": "stdout",
          "text": [
            "\n",
            "10. Creating dictionary using dict() consturctor\n",
            "hesh\n",
            "new dictionary: {'name': 'hesh', 'age': 20, 'city': 'virginia', 'var': 3}\n"
          ]
        }
      ]
    },
    {
      "cell_type": "code",
      "source": [
        "# update\n",
        "print(\"\\n11.update dictionary:\")\n",
        "person.update(new_person)\n",
        "print(\"updated dictionary:\", person)"
      ],
      "metadata": {
        "colab": {
          "base_uri": "https://localhost:8080/"
        },
        "id": "6HHt01DpkLql",
        "outputId": "ee10c8ab-aeb9-4dde-9d42-d3beb58fc163"
      },
      "execution_count": 31,
      "outputs": [
        {
          "output_type": "stream",
          "name": "stdout",
          "text": [
            "\n",
            "11.update dictionary:\n",
            "updated dictionary: {'name': 'hesh', 'age': 20, 'city': 'virginia', 'var': 3}\n"
          ]
        }
      ]
    },
    {
      "cell_type": "code",
      "source": [
        "# Removing key-vaule pairusing Pop()\n",
        "print(\"\\n12. Removing the last Key-value pair using popitem()\")\n",
        "person.popitem() # last item\n",
        "print(person)"
      ],
      "metadata": {
        "colab": {
          "base_uri": "https://localhost:8080/"
        },
        "id": "lrZlTfzEl15E",
        "outputId": "ce721aa3-e568-4ec8-a190-17ce1eae9ec7"
      },
      "execution_count": 33,
      "outputs": [
        {
          "output_type": "stream",
          "name": "stdout",
          "text": [
            "\n",
            "12. Removing the last Key-value pair using popitem()\n",
            "{'name': 'hesh', 'age': 20}\n"
          ]
        }
      ]
    },
    {
      "cell_type": "code",
      "source": [
        "# Checking if Key is exits in the dictionary\n",
        "print(\"\\n13. Checking if Key is exits in the dictionary\")\n",
        "if \"name\" in person:\n",
        "    print(\"Key 'name' exists in the dictionary.\")\n",
        "    print(person[\"name\"])\n",
        "else:\n",
        "    print(\"Key 'name' does not exist in the dictionary.\")"
      ],
      "metadata": {
        "colab": {
          "base_uri": "https://localhost:8080/"
        },
        "id": "8QEDIfYZmiK9",
        "outputId": "c315718c-ad5f-4136-e633-19b00ae6b289"
      },
      "execution_count": 34,
      "outputs": [
        {
          "output_type": "stream",
          "name": "stdout",
          "text": [
            "\n",
            "13. Checking if Key is exits in the dictionary\n",
            "Key 'name' exists in the dictionary.\n",
            "hesh\n"
          ]
        }
      ]
    },
    {
      "cell_type": "code",
      "source": [
        " # looping through keys and valuex using for loop\n",
        "print(\"\\n14. looping through keys and valuex using for loop\")\n",
        "for key, value in person.items():\n",
        "    print(f\"{key}: {value}\")"
      ],
      "metadata": {
        "colab": {
          "base_uri": "https://localhost:8080/"
        },
        "id": "KU6DJf3wnJvQ",
        "outputId": "246b6fbf-20ad-4b13-a1f2-6415f0b3e351"
      },
      "execution_count": 35,
      "outputs": [
        {
          "output_type": "stream",
          "name": "stdout",
          "text": [
            "\n",
            "14. looping through keys and valuex using for loop\n",
            "name: hesh\n",
            "age: 20\n"
          ]
        }
      ]
    },
    {
      "cell_type": "code",
      "source": [
        "# Getting only keys or only Values\n",
        "print(\"\\n15. Getting only keys or only Values\")\n",
        "keys = person.keys()\n",
        "values = person.values()\n",
        "print(\"Keys:\", keys)\n",
        "print(\"Values:\", values)\n",
        "print(\"keys:\", list(keys))\n",
        "print(\"values:\", list(values))"
      ],
      "metadata": {
        "colab": {
          "base_uri": "https://localhost:8080/"
        },
        "id": "F7D0dEOypzHJ",
        "outputId": "aebc6a0e-07f7-41ae-c708-47828f7907a0"
      },
      "execution_count": 37,
      "outputs": [
        {
          "output_type": "stream",
          "name": "stdout",
          "text": [
            "\n",
            "15. Getting only keys or only Values\n",
            "Keys: dict_keys(['name', 'age'])\n",
            "Values: dict_values(['hesh', 20])\n",
            "keys: ['name', 'age']\n",
            "values: ['hesh', 20]\n"
          ]
        }
      ]
    },
    {
      "cell_type": "code",
      "source": [
        "# Copying Dictionary\n",
        "print(\"\\n16. Copying Dictionary\")\n",
        "new_person = person.copy()\n",
        "print(\"New Person:\", new_person)"
      ],
      "metadata": {
        "colab": {
          "base_uri": "https://localhost:8080/"
        },
        "id": "u1hT9FEjp-kP",
        "outputId": "a0dc271a-5d23-4d22-928e-b7eb83ada891"
      },
      "execution_count": 38,
      "outputs": [
        {
          "output_type": "stream",
          "name": "stdout",
          "text": [
            "\n",
            "16. Copying Dictionary\n",
            "New Person: {'name': 'hesh', 'age': 20}\n"
          ]
        }
      ]
    },
    {
      "cell_type": "code",
      "source": [
        "# Clearing Dictionary\n",
        "print(\"\\n17. Clearing Dictionary\")\n",
        "person.clear()\n",
        "print(\"Cleared Person:\", person)"
      ],
      "metadata": {
        "colab": {
          "base_uri": "https://localhost:8080/"
        },
        "id": "5brdNElsq7fs",
        "outputId": "33fa1f55-04cd-4f53-fffc-4898b8363e82"
      },
      "execution_count": 41,
      "outputs": [
        {
          "output_type": "stream",
          "name": "stdout",
          "text": [
            "\n",
            "17. Clearing Dictionary\n",
            "Cleared Person: {}\n"
          ]
        }
      ]
    },
    {
      "cell_type": "code",
      "source": [
        "# Checking Dectionary is empty\n",
        "print(\"\\n18. Checking Dectionary is empty\")\n",
        "if not person:\n",
        "    print(\"Person dictionary is empty.\")\n",
        "else:\n",
        "    print(\"Person dictionary is not empty.\")"
      ],
      "metadata": {
        "colab": {
          "base_uri": "https://localhost:8080/"
        },
        "id": "wuX9rMwarOf4",
        "outputId": "f62ff886-4910-43b1-fed0-914cfec2585a"
      },
      "execution_count": 42,
      "outputs": [
        {
          "output_type": "stream",
          "name": "stdout",
          "text": [
            "\n",
            "18. Checking Dectionary is empty\n",
            "Person dictionary is empty.\n"
          ]
        }
      ]
    },
    {
      "cell_type": "code",
      "source": [
        "# Creating empty shoping cart\n",
        "print(\"\\n19. Creating empty shoping cart \")\n",
        "shopping_cart = []"
      ],
      "metadata": {
        "colab": {
          "base_uri": "https://localhost:8080/"
        },
        "id": "qvhpwG_crr6N",
        "outputId": "cd88abb5-55ae-4893-a565-b1a49d908fe9"
      },
      "execution_count": 83,
      "outputs": [
        {
          "output_type": "stream",
          "name": "stdout",
          "text": [
            "\n",
            "19. Creating empty shoping cart \n"
          ]
        }
      ]
    },
    {
      "cell_type": "code",
      "source": [
        " # Adding the items to cart\n",
        "shopping_cart.append({\"item\": \"keyboard\", \"price\": 100, \"quantity\": 5})\n",
        "shopping_cart.append({\"item\": \"mouse\", \"price\": 50, \"quantity\": 1})\n",
        "shopping_cart.append({\"item\": \"mobile\", \"price\": 1000, \"quantity\": 2})\n",
        "shopping_cart.append({\"item\": \"Laptop\", \"price\": 1200, \"quantity\": 1})\n",
        "shopping_cart.append({\"item\": \"Headphones\", \"price\": 150, \"quantity\": 2})\n",
        "print(shopping_cart)"
      ],
      "metadata": {
        "colab": {
          "base_uri": "https://localhost:8080/"
        },
        "id": "pcL-Qq94x1Z0",
        "outputId": "f5f1939d-0800-4b88-f83e-218ff7346685"
      },
      "execution_count": 84,
      "outputs": [
        {
          "output_type": "stream",
          "name": "stdout",
          "text": [
            "[{'item': 'keyboard', 'price': 100, 'quantity': 5}, {'item': 'mouse', 'price': 50, 'quantity': 1}, {'item': 'mobile', 'price': 1000, 'quantity': 2}, {'item': 'Laptop', 'price': 1200, 'quantity': 1}, {'item': 'Headphones', 'price': 150, 'quantity': 2}]\n"
          ]
        }
      ]
    },
    {
      "cell_type": "code",
      "source": [
        "# Removing last added item\n",
        "shopping_cart.pop()\n",
        "print(shopping_cart) # it will remove laste item headphones\n"
      ],
      "metadata": {
        "colab": {
          "base_uri": "https://localhost:8080/"
        },
        "id": "v7pKxum8x4o2",
        "outputId": "0d842c34-bd57-4e93-c0fc-215513d3a76d"
      },
      "execution_count": 85,
      "outputs": [
        {
          "output_type": "stream",
          "name": "stdout",
          "text": [
            "[{'item': 'keyboard', 'price': 100, 'quantity': 5}, {'item': 'mouse', 'price': 50, 'quantity': 1}, {'item': 'mobile', 'price': 1000, 'quantity': 2}, {'item': 'Laptop', 'price': 1200, 'quantity': 1}]\n"
          ]
        }
      ]
    },
    {
      "cell_type": "code",
      "source": [
        "#  View the cart\n",
        "for item in shopping_cart:\n",
        "    print(f\"Item: {item['item']}, Price: {item['price']}, Quantity: {item['quantity']}\")"
      ],
      "metadata": {
        "colab": {
          "base_uri": "https://localhost:8080/"
        },
        "id": "cvT8cbxryLsr",
        "outputId": "5dd63cef-fb13-4e85-b59c-e3872ba03c47"
      },
      "execution_count": 86,
      "outputs": [
        {
          "output_type": "stream",
          "name": "stdout",
          "text": [
            "Item: keyboard, Price: 100, Quantity: 5\n",
            "Item: mouse, Price: 50, Quantity: 1\n",
            "Item: mobile, Price: 1000, Quantity: 2\n",
            "Item: Laptop, Price: 1200, Quantity: 1\n"
          ]
        }
      ]
    },
    {
      "cell_type": "code",
      "source": [
        "# updating the quantity of an item\n",
        "for item in shopping_cart:\n",
        "    if item[\"item\"] == \"mouse\":\n",
        "        item[\"quantity\"] += 1  # Increment the quantity by 1\n",
        "        break  # Exit the loop after updating the quantity\n",
        "print(shopping_cart)\n",
        "for item in shopping_cart:\n",
        "    print(f\"Item: {item['item']}, Price: ${item['price']}, Quantity: {item['quantity']}\")\n"
      ],
      "metadata": {
        "colab": {
          "base_uri": "https://localhost:8080/"
        },
        "id": "Dyc1cPXhyYyC",
        "outputId": "dace2365-45b2-4449-ff8d-5bd20a4e9152"
      },
      "execution_count": 92,
      "outputs": [
        {
          "output_type": "stream",
          "name": "stdout",
          "text": [
            "[{'item': 'keyboard', 'price': 100, 'quantity': 5}, {'item': 'mouse', 'price': 50, 'quantity': 16}, {'item': 'mobile', 'price': 1000, 'quantity': 2}, {'item': 'Laptop', 'price': 1200, 'quantity': 1}]\n",
            "Item: keyboard, Price: $100, Quantity: 5\n",
            "Item: mouse, Price: $50, Quantity: 16\n",
            "Item: mobile, Price: $1000, Quantity: 2\n",
            "Item: Laptop, Price: $1200, Quantity: 1\n"
          ]
        }
      ]
    },
    {
      "cell_type": "code",
      "source": [
        "# alculating Total cost\n",
        "total_cost = sum(item[\"price\"] * item[\"quantity\"] for item in shopping_cart)\n",
        "print(f\"Total Cost: ${total_cost}\")"
      ],
      "metadata": {
        "colab": {
          "base_uri": "https://localhost:8080/"
        },
        "id": "cluSHhWe8db8",
        "outputId": "95f7684e-3d9e-4ace-ff0b-063505790b14"
      },
      "execution_count": 93,
      "outputs": [
        {
          "output_type": "stream",
          "name": "stdout",
          "text": [
            "Total Cost: $4500\n"
          ]
        }
      ]
    },
    {
      "cell_type": "markdown",
      "source": [
        "Function Definition: A function is defined using the def keyword, followed by the function name and parentheses () which may contain parameters.\n",
        "1.   Function Call: After defining a function, you can call it by using its name followed by parentheses.\n",
        "2.   Parameters and Arguments: Functions can take input values, known as parameters. When calling the function, you provide arguments for these parameters.\n",
        "3.   Return Statement: Functions can return a value using the return keyword."
      ],
      "metadata": {
        "id": "LIPr7-f19JjZ"
      }
    },
    {
      "cell_type": "code",
      "source": [
        " # Def function\n",
        "def greet():\n",
        "    print(f\"Hello, world!\")\n",
        "    print(\"greet function\")\n",
        "greet()\n"
      ],
      "metadata": {
        "colab": {
          "base_uri": "https://localhost:8080/"
        },
        "id": "5z2P4cBS9Sip",
        "outputId": "0892db6b-e343-476f-c810-541fd0a6fbab"
      },
      "execution_count": 101,
      "outputs": [
        {
          "output_type": "stream",
          "name": "stdout",
          "text": [
            "Hello, world!\n",
            "greet function\n"
          ]
        }
      ]
    },
    {
      "cell_type": "code",
      "source": [
        "def greet(name):\n",
        "    print(f\"Hello, {name}!\")\n",
        "wish = input(\"Enter your name:\")\n",
        "greet(wish)"
      ],
      "metadata": {
        "colab": {
          "base_uri": "https://localhost:8080/"
        },
        "id": "ZJYseCtj-TmK",
        "outputId": "575739a4-dad3-4da6-f090-9828c83c9e69"
      },
      "execution_count": 102,
      "outputs": [
        {
          "output_type": "stream",
          "name": "stdout",
          "text": [
            "Enter your name:heshwith\n",
            "Hello, heshwith!\n"
          ]
        }
      ]
    },
    {
      "cell_type": "code",
      "source": [
        "# squre number\n",
        "def square(number):\n",
        "    return number ** 2\n",
        "result = square(5)\n",
        "print(result)"
      ],
      "metadata": {
        "colab": {
          "base_uri": "https://localhost:8080/"
        },
        "id": "KT7q1XW_-qtV",
        "outputId": "16d048b0-9cc6-4c61-b23c-26a533ec5584"
      },
      "execution_count": 103,
      "outputs": [
        {
          "output_type": "stream",
          "name": "stdout",
          "text": [
            "25\n"
          ]
        }
      ]
    },
    {
      "cell_type": "code",
      "source": [
        "# for loop for squr number\n",
        "def square_numbers(numbers):\n",
        "    return numbers ** 2\n",
        "for i in range(0, 11):\n",
        "    print(square_numbers(i))"
      ],
      "metadata": {
        "colab": {
          "base_uri": "https://localhost:8080/"
        },
        "id": "EF2adpa7-0F2",
        "outputId": "211569df-12f4-492e-ca92-d36f2247a7fb"
      },
      "execution_count": 106,
      "outputs": [
        {
          "output_type": "stream",
          "name": "stdout",
          "text": [
            "0\n",
            "1\n",
            "4\n",
            "9\n",
            "16\n",
            "25\n",
            "36\n",
            "49\n",
            "64\n",
            "81\n",
            "100\n"
          ]
        }
      ]
    },
    {
      "cell_type": "code",
      "source": [
        "# Def add\n",
        "def add(a, b):\n",
        "    return a + b\n",
        "result = add(5, 3)\n",
        "print(result)"
      ],
      "metadata": {
        "colab": {
          "base_uri": "https://localhost:8080/"
        },
        "id": "gPnhgqTsACLS",
        "outputId": "7e3b6849-9cc0-4974-9e4d-e12b2c5634dd"
      },
      "execution_count": 107,
      "outputs": [
        {
          "output_type": "stream",
          "name": "stdout",
          "text": [
            "8\n"
          ]
        }
      ]
    },
    {
      "cell_type": "code",
      "source": [
        "# def factorial\n",
        "def factorial(n):\n",
        "    if n == 0:\n",
        "        return 1\n",
        "    else:\n",
        "        return n * factorial(n - 1)\n",
        "result = factorial(5)\n",
        "print(result)\n",
        "\n"
      ],
      "metadata": {
        "colab": {
          "base_uri": "https://localhost:8080/"
        },
        "id": "DBG_e5RPAKdR",
        "outputId": "93d243d1-e9ec-405e-9645-3a885bb15515"
      },
      "execution_count": 109,
      "outputs": [
        {
          "output_type": "stream",
          "name": "stdout",
          "text": [
            "120\n"
          ]
        }
      ]
    },
    {
      "cell_type": "code",
      "source": [
        "def factorial(n):\n",
        "    result = 1\n",
        "    for i in range(1, n + 1):\n",
        "        result *= i\n",
        "    return result\n",
        "for i in range(0, 11):\n",
        "  s = factorial(i)\n",
        "  print(s)\n",
        "  print(s, end=\" \")\n",
        "  #print(f\"The factorial of {i} is {s}\")\n"
      ],
      "metadata": {
        "colab": {
          "base_uri": "https://localhost:8080/"
        },
        "id": "9BKNCohnBrLK",
        "outputId": "fe5bb02d-6464-461a-a337-47a0608947f9"
      },
      "execution_count": 125,
      "outputs": [
        {
          "output_type": "stream",
          "name": "stdout",
          "text": [
            "1\n",
            "1 1\n",
            "1 2\n",
            "2 6\n",
            "6 24\n",
            "24 120\n",
            "120 720\n",
            "720 5040\n",
            "5040 40320\n",
            "40320 362880\n",
            "362880 3628800\n",
            "3628800 "
          ]
        }
      ]
    },
    {
      "cell_type": "code",
      "source": [
        "def factorial(n):\n",
        "  result = 1\n",
        "  for i in range(1, n + 1):\n",
        "      result *= i\n",
        "  return result\n",
        "s = 0\n",
        "for i in range(0, 11):\n",
        "  s = s+ factorial(i)\n",
        "  print(s, end=\" \")\n",
        "  print(f\"The factorial of {i} is {s}\")\n",
        "\n"
      ],
      "metadata": {
        "colab": {
          "base_uri": "https://localhost:8080/"
        },
        "id": "00BsSuxgEcs3",
        "outputId": "f640690c-c325-4926-c45e-c7bff4a7b2a9"
      },
      "execution_count": 147,
      "outputs": [
        {
          "output_type": "stream",
          "name": "stdout",
          "text": [
            "1 The factorial of 0 is 1\n",
            "2 The factorial of 1 is 2\n",
            "4 The factorial of 2 is 4\n",
            "10 The factorial of 3 is 10\n",
            "34 The factorial of 4 is 34\n",
            "154 The factorial of 5 is 154\n",
            "874 The factorial of 6 is 874\n",
            "5914 The factorial of 7 is 5914\n",
            "46234 The factorial of 8 is 46234\n",
            "409114 The factorial of 9 is 409114\n",
            "4037914 The factorial of 10 is 4037914\n"
          ]
        }
      ]
    },
    {
      "cell_type": "markdown",
      "source": [
        "Positional Arguments are the most straightforward way of passing arguments to a function. The arguments are assigned to the function parameters in the order they are passed."
      ],
      "metadata": {
        "id": "iYfLyPIEUeGD"
      }
    },
    {
      "cell_type": "code",
      "source": [
        "def greet(name, age):\n",
        "    print(f\"Hello, {name}! You are {age} years old.\")\n",
        "\n",
        "# Calling the function with positional arguments\n",
        "greet(\"gurusai\", 25)\n",
        "greet(30, \"heshwith\")\n",
        "\n"
      ],
      "metadata": {
        "colab": {
          "base_uri": "https://localhost:8080/"
        },
        "id": "QUxBjqnsUdUC",
        "outputId": "fe247baa-5032-4f45-d1ce-0105b232d784"
      },
      "execution_count": 3,
      "outputs": [
        {
          "output_type": "stream",
          "name": "stdout",
          "text": [
            "Hello, gurusai! You are 25 years old.\n",
            "greet function\n",
            "Hello, 30! You are heshwith years old.\n",
            "greet function\n"
          ]
        }
      ]
    },
    {
      "cell_type": "markdown",
      "source": [
        "Keyword Arguments: These arguments are passed by explicitly specifying the parameter names in the function call. This allows you to pass the arguments in any order."
      ],
      "metadata": {
        "id": "Rl3OrpQiVZ8Q"
      }
    },
    {
      "cell_type": "code",
      "source": [
        "def greet(name, age):\n",
        "    print(f\"Hello, {name}! You are {age} years old.\")\n",
        "\n",
        "# Calling the function with keyword arguments\n",
        "greet(age=30, name=\"heshwith\")"
      ],
      "metadata": {
        "colab": {
          "base_uri": "https://localhost:8080/"
        },
        "id": "dvXShN08VbNg",
        "outputId": "dbdfa815-5418-41b0-f93f-d0be0b881a7c"
      },
      "execution_count": 4,
      "outputs": [
        {
          "output_type": "stream",
          "name": "stdout",
          "text": [
            "Hello, heshwith! You are 30 years old.\n"
          ]
        }
      ]
    },
    {
      "cell_type": "markdown",
      "source": [
        "Default Arguments: These are arguments that have default values specified in the function definition. If no value is provided for these arguments when the function is called, the default value is used."
      ],
      "metadata": {
        "id": "oj43TbdTVyWT"
      }
    },
    {
      "cell_type": "code",
      "source": [
        "def greet(name=\"guest\", age=30):\n",
        "    print(f\"Hello, {name}! You are {age} years old.\")\n",
        "\n",
        "# Calling the function with default argument\n",
        "print(greet())\n",
        "print(greet(\"sachin\", 42))"
      ],
      "metadata": {
        "colab": {
          "base_uri": "https://localhost:8080/"
        },
        "id": "JfpCmNfaVzl6",
        "outputId": "22b0b27f-0319-4fb7-df0f-b27437515d3a"
      },
      "execution_count": 7,
      "outputs": [
        {
          "output_type": "stream",
          "name": "stdout",
          "text": [
            "Hello, guest! You are 30 years old.\n",
            "None\n",
            "Hello, sachin! You are 42 years old.\n",
            "None\n"
          ]
        }
      ]
    },
    {
      "cell_type": "markdown",
      "source": [
        "*args (Variable-Length Positional Arguments): The *args syntax allows you to pass a variable number of positional arguments to a function. These arguments are collected into a tuple."
      ],
      "metadata": {
        "id": "O1dZF1YRWr6H"
      }
    },
    {
      "cell_type": "code",
      "source": [
        "def add_numbers(*args):\n",
        "    result = 0\n",
        "    for num in args:\n",
        "        result += num\n",
        "    return result\n",
        "\n",
        "# Calling the function with variable number of arguments\n",
        "print(add_numbers(1, 2, 3, 4, 5))\n",
        "print(add_numbers(10, 20, 30))"
      ],
      "metadata": {
        "colab": {
          "base_uri": "https://localhost:8080/"
        },
        "id": "NPw552R4WuML",
        "outputId": "208e01fb-7610-4ddf-9e81-74d107d7c60b"
      },
      "execution_count": 13,
      "outputs": [
        {
          "output_type": "stream",
          "name": "stdout",
          "text": [
            "15\n",
            "60\n"
          ]
        }
      ]
    },
    {
      "cell_type": "code",
      "source": [
        "def add_numbers(*args):\n",
        "    return sum(args)\n",
        "print(add_numbers(1, 2, 3, 4, 5))\n",
        "print(add_numbers(10, 20, 30))\n",
        "# Calling the function with variable number of arguments"
      ],
      "metadata": {
        "colab": {
          "base_uri": "https://localhost:8080/"
        },
        "id": "PaPvla20X7ck",
        "outputId": "0fa81915-94b0-4ed4-e284-87799e9c4359"
      },
      "execution_count": 12,
      "outputs": [
        {
          "output_type": "stream",
          "name": "stdout",
          "text": [
            "15\n",
            "60\n"
          ]
        }
      ]
    },
    {
      "cell_type": "code",
      "source": [
        "def find_max(*args):\n",
        "    return max(args)\n",
        "nums = [10, 5, 20, 15, 30]\n",
        "max_num = find_max(*nums)\n",
        "print(max_num)"
      ],
      "metadata": {
        "colab": {
          "base_uri": "https://localhost:8080/"
        },
        "id": "EGV3e-TMYvVG",
        "outputId": "daffbd9a-adbd-47de-98ea-c7bd0a8dfc01"
      },
      "execution_count": 19,
      "outputs": [
        {
          "output_type": "stream",
          "name": "stdout",
          "text": [
            "30\n",
            "30\n"
          ]
        }
      ]
    },
    {
      "cell_type": "code",
      "source": [
        "def find_min(*args):\n",
        "    return min(args)\n",
        "nums = [10, 5, 20, 15, 30]\n",
        "min_num = find_min(*nums)\n",
        "print(min_num)"
      ],
      "metadata": {
        "colab": {
          "base_uri": "https://localhost:8080/"
        },
        "id": "flvf_SKwZ1CW",
        "outputId": "a59fe0a2-f6bc-454f-8eb9-25438366fd1f"
      },
      "execution_count": 20,
      "outputs": [
        {
          "output_type": "stream",
          "name": "stdout",
          "text": [
            "5\n"
          ]
        }
      ]
    },
    {
      "cell_type": "code",
      "source": [
        "def square_list(*args):\n",
        "    return [x ** 2 for x in args]\n",
        "numbers = [1, 2, 3, 4, 5]\n",
        "squared_list = square_list(*numbers)\n",
        "r_1 = square_list(*numbers)\n",
        "print(r_1)\n",
        "print(squared_list)\n",
        "print(square_list(*numbers))\n"
      ],
      "metadata": {
        "colab": {
          "base_uri": "https://localhost:8080/"
        },
        "id": "EC7mBJq1aLnJ",
        "outputId": "ace25b9e-0c9d-4170-ee68-0445dfe70639"
      },
      "execution_count": 24,
      "outputs": [
        {
          "output_type": "stream",
          "name": "stdout",
          "text": [
            "[1, 4, 9, 16, 25]\n",
            "[1, 4, 9, 16, 25]\n",
            "[1, 4, 9, 16, 25]\n"
          ]
        }
      ]
    },
    {
      "cell_type": "code",
      "source": [
        "def square_tuple(*args):\n",
        "    return tuple(x ** 2 for x in args)\n",
        "numbers = (1, 2, 3, 4, 5)\n",
        "squared_tuple = square_tuple(*numbers)\n",
        "r_1 = square_tuple(*numbers)\n",
        "print(r_1)\n",
        "print(squared_tuple)\n",
        "print(square_tuple(*numbers))\n"
      ],
      "metadata": {
        "colab": {
          "base_uri": "https://localhost:8080/"
        },
        "id": "TuSsZbiebffx",
        "outputId": "46aae856-0ace-4979-eb6a-006fd6d28470"
      },
      "execution_count": 26,
      "outputs": [
        {
          "output_type": "stream",
          "name": "stdout",
          "text": [
            "(1, 4, 9, 16, 25)\n",
            "(1, 4, 9, 16, 25)\n",
            "(1, 4, 9, 16, 25)\n"
          ]
        }
      ]
    },
    {
      "cell_type": "markdown",
      "source": [
        " **kwargs (Variable-Length Keyword Arguments): The **kwargs syntax allows you to pass a variable number of keyword arguments to a function. These arguments are collected into a dictionary."
      ],
      "metadata": {
        "id": "v2Pbv2W6cXcY"
      }
    },
    {
      "cell_type": "code",
      "source": [
        "def print_info(**kwargs):\n",
        "    for key, value in kwargs.items():\n",
        "        print(f\"{key}: {value}\")\n",
        "profile = {\n",
        "    \"name\": \"John Doe\",\n",
        "    \"age\": 30,\n",
        "    \"city\": \"New York\"\n",
        "}\n",
        "print_info(**profile)\n",
        "#print_info(profile)\n",
        "\n",
        "# Calling the function with keyword arguments\n",
        "#print_info(name=\"John\", age=30, city=\"New York\")"
      ],
      "metadata": {
        "colab": {
          "base_uri": "https://localhost:8080/"
        },
        "id": "qN3ZGTvOcZgY",
        "outputId": "2e10d8b5-2c1b-4ee7-bcc6-39c2adcce3e0"
      },
      "execution_count": 31,
      "outputs": [
        {
          "output_type": "stream",
          "name": "stdout",
          "text": [
            "name: John Doe\n",
            "age: 30\n",
            "city: New York\n"
          ]
        }
      ]
    },
    {
      "cell_type": "code",
      "source": [
        "def create_profile(name, **kwargs):\n",
        "    profile = {\"name\": name}\n",
        "    profile.update(kwargs)  # Add any additional key-value pairs to the profile\n",
        "    return profile\n",
        "profile = {\"age\": 30, \"city\": \"New York\",}\n",
        "print(profile)\n",
        "profile = create_profile(\"GuRu Sai\", **profile)\n",
        "print(profile)\n"
      ],
      "metadata": {
        "colab": {
          "base_uri": "https://localhost:8080/"
        },
        "id": "ygZPuf6LfEHI",
        "outputId": "9441ae8f-d3d1-43c5-861a-26ebfcde9511"
      },
      "execution_count": 38,
      "outputs": [
        {
          "output_type": "stream",
          "name": "stdout",
          "text": [
            "{'age': 30, 'city': 'New York'}\n",
            "{'name': 'GuRu Sai', 'age': 30, 'city': 'New York'}\n"
          ]
        }
      ]
    },
    {
      "cell_type": "code",
      "source": [
        "def create_person(**kwargs):\n",
        "    for key, value in kwargs.items():\n",
        "        print(f\"{key}: {value}\")\n",
        "    person = {\n",
        "        \"name\": kwargs.get(\"name\", \"Unknown\"),\n",
        "        \"age\": kwargs.get(\"age\", 0),\n",
        "        \"city\": kwargs.get(\"city\", \"Unknown\")\n",
        "    }\n",
        "    return person\n",
        "profile = create_person(name= input(\"Enter Name:\"), age= input(\"Enter Age:\"), city=input(\"Enter City:\"))\n",
        "print(profile)\n"
      ],
      "metadata": {
        "colab": {
          "base_uri": "https://localhost:8080/"
        },
        "id": "gKxEhFomdgRD",
        "outputId": "4b291ddb-8881-485f-c20e-9d8044a71080"
      },
      "execution_count": 41,
      "outputs": [
        {
          "output_type": "stream",
          "name": "stdout",
          "text": [
            "Enter Name:Gurusai\n",
            "Enter Age:35\n",
            "Enter City:virginia\n",
            "name: Gurusai\n",
            "age: 35\n",
            "city: virginia\n",
            "{'name': 'Gurusai', 'age': '35', 'city': 'virginia'}\n"
          ]
        }
      ]
    }
  ]
}